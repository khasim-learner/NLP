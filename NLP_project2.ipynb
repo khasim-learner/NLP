{
  "nbformat": 4,
  "nbformat_minor": 0,
  "metadata": {
    "colab": {
      "provenance": []
    },
    "kernelspec": {
      "name": "python3",
      "display_name": "Python 3"
    },
    "language_info": {
      "name": "python"
    }
  },
  "cells": [
    {
      "cell_type": "markdown",
      "source": [
        "Word Embedidng Techniques using Embedding Layer in Keras"
      ],
      "metadata": {
        "id": "n_oIgt--XRaZ"
      }
    },
    {
      "cell_type": "code",
      "source": [
        "from tensorflow.keras.preprocessing.text import one_hot"
      ],
      "metadata": {
        "id": "B-T144ZNXYWm"
      },
      "execution_count": 1,
      "outputs": []
    },
    {
      "cell_type": "code",
      "source": [
        "sent=[ 'the glass of milk',\n",
        "     'the glass of juice',\n",
        "     'the cup of tea',\n",
        "    'I am a good boy',\n",
        "     'I am a good developer',\n",
        "     'understand the meaning of words',\n",
        "     'your videos are good']"
      ],
      "metadata": {
        "id": "jk-ZfbijXhWN"
      },
      "execution_count": 2,
      "outputs": []
    },
    {
      "cell_type": "code",
      "source": [
        "voc_size = 15000"
      ],
      "metadata": {
        "id": "phfgXhrAXx_r"
      },
      "execution_count": 9,
      "outputs": []
    },
    {
      "cell_type": "markdown",
      "source": [
        "One Hot Representation"
      ],
      "metadata": {
        "id": "2IaX9WJqYAAC"
      }
    },
    {
      "cell_type": "code",
      "source": [
        "onehot_repr = [one_hot(words,voc_size) for words in sent]"
      ],
      "metadata": {
        "id": "HW0-47lYX9Vl"
      },
      "execution_count": 10,
      "outputs": []
    },
    {
      "cell_type": "code",
      "source": [
        "onehot_repr"
      ],
      "metadata": {
        "colab": {
          "base_uri": "https://localhost:8080/"
        },
        "id": "x3YLWekhYN_-",
        "outputId": "4909cd66-f1e1-4bbb-b532-111e68736ea6"
      },
      "execution_count": 11,
      "outputs": [
        {
          "output_type": "execute_result",
          "data": {
            "text/plain": [
              "[[14985, 1402, 5197, 4057],\n",
              " [14985, 1402, 5197, 13705],\n",
              " [14985, 14647, 5197, 9859],\n",
              " [10843, 10535, 12603, 11196, 3182],\n",
              " [10843, 10535, 12603, 11196, 2655],\n",
              " [6, 14985, 4985, 5197, 615],\n",
              " [13230, 8901, 6669, 11196]]"
            ]
          },
          "metadata": {},
          "execution_count": 11
        }
      ]
    },
    {
      "cell_type": "markdown",
      "source": [
        "Word Embedding Representation"
      ],
      "metadata": {
        "id": "kCmB3iyCY8H8"
      }
    },
    {
      "cell_type": "code",
      "source": [
        "from tensorflow.keras.layers import Embedding\n",
        "from tensorflow.keras.preprocessing.sequence import pad_sequences\n",
        "from tensorflow.keras.models import Sequential"
      ],
      "metadata": {
        "id": "mybgHgagYQG0"
      },
      "execution_count": 12,
      "outputs": []
    },
    {
      "cell_type": "markdown",
      "source": [
        "Pre padding"
      ],
      "metadata": {
        "id": "vhztwmmXZiqC"
      }
    },
    {
      "cell_type": "code",
      "source": [
        "sent_length=8\n",
        "embedded_docs=pad_sequences(onehot_repr,padding='pre',maxlen=sent_length)\n",
        "print(embedded_docs)"
      ],
      "metadata": {
        "colab": {
          "base_uri": "https://localhost:8080/"
        },
        "id": "4iqJRpJrZIvp",
        "outputId": "b0e03112-43b2-4616-954f-bd5ee4f30fb4"
      },
      "execution_count": 13,
      "outputs": [
        {
          "output_type": "stream",
          "name": "stdout",
          "text": [
            "[[    0     0     0     0 14985  1402  5197  4057]\n",
            " [    0     0     0     0 14985  1402  5197 13705]\n",
            " [    0     0     0     0 14985 14647  5197  9859]\n",
            " [    0     0     0 10843 10535 12603 11196  3182]\n",
            " [    0     0     0 10843 10535 12603 11196  2655]\n",
            " [    0     0     0     6 14985  4985  5197   615]\n",
            " [    0     0     0     0 13230  8901  6669 11196]]\n"
          ]
        }
      ]
    },
    {
      "cell_type": "code",
      "source": [
        "dim = 10"
      ],
      "metadata": {
        "id": "IUBk7FT_ZYEs"
      },
      "execution_count": 14,
      "outputs": []
    },
    {
      "cell_type": "code",
      "source": [
        "model=Sequential()\n",
        "model.add(Embedding(voc_size,10,input_length=sent_length))\n",
        "model.compile('adam','mse')"
      ],
      "metadata": {
        "id": "BxljOlEKZqWH"
      },
      "execution_count": 15,
      "outputs": []
    },
    {
      "cell_type": "code",
      "source": [
        "model.summary()"
      ],
      "metadata": {
        "colab": {
          "base_uri": "https://localhost:8080/"
        },
        "id": "cj2Rf6FvZuPI",
        "outputId": "fb1e76a6-810a-4507-9f89-17befcb66c96"
      },
      "execution_count": 16,
      "outputs": [
        {
          "output_type": "stream",
          "name": "stdout",
          "text": [
            "Model: \"sequential\"\n",
            "_________________________________________________________________\n",
            " Layer (type)                Output Shape              Param #   \n",
            "=================================================================\n",
            " embedding (Embedding)       (None, 8, 10)             150000    \n",
            "                                                                 \n",
            "=================================================================\n",
            "Total params: 150000 (585.94 KB)\n",
            "Trainable params: 150000 (585.94 KB)\n",
            "Non-trainable params: 0 (0.00 Byte)\n",
            "_________________________________________________________________\n"
          ]
        }
      ]
    },
    {
      "cell_type": "code",
      "source": [
        "embedded_docs[2]"
      ],
      "metadata": {
        "colab": {
          "base_uri": "https://localhost:8080/"
        },
        "id": "CE39KeiNZxcO",
        "outputId": "c4ef5926-c2b1-4784-e94b-0f687f011be8"
      },
      "execution_count": 17,
      "outputs": [
        {
          "output_type": "execute_result",
          "data": {
            "text/plain": [
              "array([    0,     0,     0,     0, 14985, 14647,  5197,  9859],\n",
              "      dtype=int32)"
            ]
          },
          "metadata": {},
          "execution_count": 17
        }
      ]
    },
    {
      "cell_type": "code",
      "source": [
        "model.predict(embedded_docs[1])"
      ],
      "metadata": {
        "colab": {
          "base_uri": "https://localhost:8080/"
        },
        "id": "sHLpBkmNZ3q-",
        "outputId": "0b995ebc-ee62-428d-c2b4-94d3664b85d0"
      },
      "execution_count": 18,
      "outputs": [
        {
          "output_type": "stream",
          "name": "stdout",
          "text": [
            "1/1 [==============================] - 0s 101ms/step\n"
          ]
        },
        {
          "output_type": "execute_result",
          "data": {
            "text/plain": [
              "array([[-3.3291209e-02, -1.1203073e-02, -4.4730425e-02, -2.0893384e-02,\n",
              "        -4.0732980e-02, -2.7885795e-02, -4.9403038e-02, -3.5497557e-02,\n",
              "        -2.5033547e-02, -2.1303818e-04],\n",
              "       [-3.3291209e-02, -1.1203073e-02, -4.4730425e-02, -2.0893384e-02,\n",
              "        -4.0732980e-02, -2.7885795e-02, -4.9403038e-02, -3.5497557e-02,\n",
              "        -2.5033547e-02, -2.1303818e-04],\n",
              "       [-3.3291209e-02, -1.1203073e-02, -4.4730425e-02, -2.0893384e-02,\n",
              "        -4.0732980e-02, -2.7885795e-02, -4.9403038e-02, -3.5497557e-02,\n",
              "        -2.5033547e-02, -2.1303818e-04],\n",
              "       [-3.3291209e-02, -1.1203073e-02, -4.4730425e-02, -2.0893384e-02,\n",
              "        -4.0732980e-02, -2.7885795e-02, -4.9403038e-02, -3.5497557e-02,\n",
              "        -2.5033547e-02, -2.1303818e-04],\n",
              "       [ 3.6152843e-02,  2.5190413e-05,  1.2090016e-02,  4.4007134e-02,\n",
              "         1.3310697e-02, -4.5800354e-02, -4.1325081e-02, -2.0761311e-02,\n",
              "        -8.7051168e-03,  7.7173598e-03],\n",
              "       [ 4.6753239e-02,  4.1879807e-02, -1.6714431e-02, -3.7446510e-02,\n",
              "        -4.0848326e-02, -2.6728107e-02, -4.5448195e-02, -1.1099923e-02,\n",
              "        -3.4157172e-02,  1.4606502e-02],\n",
              "       [-4.7339726e-02,  4.6262953e-02,  4.3478515e-02, -4.9443364e-02,\n",
              "         4.9540009e-02,  3.2655392e-02, -1.7640091e-02, -4.0576942e-03,\n",
              "         1.8929485e-02, -3.5178877e-02],\n",
              "       [ 4.8404876e-02,  4.9826968e-02, -3.5553373e-02,  1.1259079e-02,\n",
              "         4.3598637e-03, -3.5298157e-02, -5.4677352e-03, -2.8525531e-02,\n",
              "         1.7379630e-02, -4.0161956e-02]], dtype=float32)"
            ]
          },
          "metadata": {},
          "execution_count": 18
        }
      ]
    }
  ]
}