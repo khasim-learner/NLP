{
 "cells": [
  {
   "cell_type": "code",
   "execution_count": 1,
   "metadata": {},
   "outputs": [],
   "source": [
    "paragraph = \"\"\" irat Kohli (Hindi pronunciation: [ʋɪˈɾɑːʈ ˈkoːɦli] ⓘ; born 5 November 1988) is an Indian international cricketer and the former captain of the Indian national cricket team. He is a right-handed batsman and an occasional medium-fast bowler. He currently represents Royal Challengers Bengaluru in the IPL and Delhi in domestic cricket. Kohli is widely regarded as one of the greatest batsmen of all time.[4] He holds the record as the highest run-scorer in IPL, ranks second in T20I, third in ODI, and stands as the fourth-highest in international cricket.[5] He also holds the record for scoring the most centuries in ODI cricket and stands second in the list of most international centuries scored. Kohli was a key member of the Indian team that won the 2011 Cricket World Cup, 2013 ICC Champions Trophy, and captained India to win the ICC Test mace three consecutive times in 2017, 2018, and 2019.[6]\"\"\""
   ]
  },
  {
   "cell_type": "code",
   "execution_count": 2,
   "metadata": {},
   "outputs": [
    {
     "data": {
      "text/plain": [
       "' irat Kohli (Hindi pronunciation: [ʋɪˈɾɑːʈ ˈkoːɦli] ⓘ; born 5 November 1988) is an Indian international cricketer and the former captain of the Indian national cricket team. He is a right-handed batsman and an occasional medium-fast bowler. He currently represents Royal Challengers Bengaluru in the IPL and Delhi in domestic cricket. Kohli is widely regarded as one of the greatest batsmen of all time.[4] He holds the record as the highest run-scorer in IPL, ranks second in T20I, third in ODI, and stands as the fourth-highest in international cricket.[5] He also holds the record for scoring the most centuries in ODI cricket and stands second in the list of most international centuries scored. Kohli was a key member of the Indian team that won the 2011 Cricket World Cup, 2013 ICC Champions Trophy, and captained India to win the ICC Test mace three consecutive times in 2017, 2018, and 2019.[6]'"
      ]
     },
     "execution_count": 2,
     "metadata": {},
     "output_type": "execute_result"
    }
   ],
   "source": [
    "paragraph"
   ]
  },
  {
   "cell_type": "code",
   "execution_count": 3,
   "metadata": {},
   "outputs": [],
   "source": [
    "import nltk\n",
    "from nltk.stem import PorterStemmer\n",
    "from nltk.corpus import stopwords"
   ]
  },
  {
   "cell_type": "code",
   "execution_count": 4,
   "metadata": {},
   "outputs": [
    {
     "name": "stderr",
     "output_type": "stream",
     "text": [
      "[nltk_data] Downloading package punkt to\n",
      "[nltk_data]     C:\\Users\\home\\AppData\\Roaming\\nltk_data...\n",
      "[nltk_data]   Package punkt is already up-to-date!\n"
     ]
    }
   ],
   "source": [
    "nltk.download('punkt')\n",
    "sentences = nltk.sent_tokenize(paragraph)"
   ]
  },
  {
   "cell_type": "code",
   "execution_count": 5,
   "metadata": {},
   "outputs": [
    {
     "data": {
      "text/plain": [
       "list"
      ]
     },
     "execution_count": 5,
     "metadata": {},
     "output_type": "execute_result"
    }
   ],
   "source": [
    "type(sentences)"
   ]
  },
  {
   "cell_type": "code",
   "execution_count": 6,
   "metadata": {},
   "outputs": [],
   "source": [
    "stemmer = PorterStemmer()"
   ]
  },
  {
   "cell_type": "code",
   "execution_count": 7,
   "metadata": {},
   "outputs": [
    {
     "data": {
      "text/plain": [
       "'go'"
      ]
     },
     "execution_count": 7,
     "metadata": {},
     "output_type": "execute_result"
    }
   ],
   "source": [
    "stemmer.stem('going')"
   ]
  },
  {
   "cell_type": "code",
   "execution_count": 8,
   "metadata": {},
   "outputs": [
    {
     "data": {
      "text/plain": [
       "'histori'"
      ]
     },
     "execution_count": 8,
     "metadata": {},
     "output_type": "execute_result"
    }
   ],
   "source": [
    "stemmer.stem('history')"
   ]
  },
  {
   "cell_type": "code",
   "execution_count": 9,
   "metadata": {},
   "outputs": [
    {
     "name": "stderr",
     "output_type": "stream",
     "text": [
      "[nltk_data] Downloading package wordnet to\n",
      "[nltk_data]     C:\\Users\\home\\AppData\\Roaming\\nltk_data...\n",
      "[nltk_data]   Package wordnet is already up-to-date!\n"
     ]
    },
    {
     "data": {
      "text/plain": [
       "True"
      ]
     },
     "execution_count": 9,
     "metadata": {},
     "output_type": "execute_result"
    }
   ],
   "source": [
    "nltk.download('wordnet')"
   ]
  },
  {
   "cell_type": "code",
   "execution_count": 10,
   "metadata": {},
   "outputs": [],
   "source": [
    "from nltk.stem import WordNetLemmatizer"
   ]
  },
  {
   "cell_type": "code",
   "execution_count": 11,
   "metadata": {},
   "outputs": [],
   "source": [
    "lemmatizer = WordNetLemmatizer()"
   ]
  },
  {
   "cell_type": "code",
   "execution_count": 12,
   "metadata": {},
   "outputs": [
    {
     "data": {
      "text/plain": [
       "'go'"
      ]
     },
     "execution_count": 12,
     "metadata": {},
     "output_type": "execute_result"
    }
   ],
   "source": [
    "lemmatizer.lemmatize('goes')"
   ]
  },
  {
   "cell_type": "code",
   "execution_count": 13,
   "metadata": {},
   "outputs": [
    {
     "data": {
      "text/plain": [
       "'history'"
      ]
     },
     "execution_count": 13,
     "metadata": {},
     "output_type": "execute_result"
    }
   ],
   "source": [
    "lemmatizer.lemmatize('history')"
   ]
  },
  {
   "cell_type": "code",
   "execution_count": 14,
   "metadata": {},
   "outputs": [],
   "source": [
    "import re\n",
    "corpus = []\n",
    "for i in range (len(sentences)):\n",
    "    review = re.sub('[^a-zA-z]',' ',sentences[i])\n",
    "    review.lower()\n",
    "    review.split()\n",
    "    corpus.append(review)\n"
   ]
  },
  {
   "cell_type": "code",
   "execution_count": 15,
   "metadata": {},
   "outputs": [
    {
     "data": {
      "text/plain": [
       "[' irat Kohli  Hindi pronunciation  [         ko  li]    born   November       is an Indian international cricketer and the former captain of the Indian national cricket team ',\n",
       " 'He is a right handed batsman and an occasional medium fast bowler ',\n",
       " 'He currently represents Royal Challengers Bengaluru in the IPL and Delhi in domestic cricket ',\n",
       " 'Kohli is widely regarded as one of the greatest batsmen of all time ',\n",
       " '[ ] He holds the record as the highest run scorer in IPL  ranks second in T  I  third in ODI  and stands as the fourth highest in international cricket ',\n",
       " '[ ] He also holds the record for scoring the most centuries in ODI cricket and stands second in the list of most international centuries scored ',\n",
       " 'Kohli was a key member of the Indian team that won the      Cricket World Cup       ICC Champions Trophy  and captained India to win the ICC Test mace three consecutive times in             and      ',\n",
       " '[ ]']"
      ]
     },
     "execution_count": 15,
     "metadata": {},
     "output_type": "execute_result"
    }
   ],
   "source": [
    "corpus"
   ]
  },
  {
   "cell_type": "code",
   "execution_count": 16,
   "metadata": {},
   "outputs": [
    {
     "name": "stdout",
     "output_type": "stream",
     "text": [
      "\n",
      "Synset details for 'drink':\n",
      "Name: drink.n.01\n",
      "Definition: a single serving of a beverage\n",
      "Examples: ['I asked for a hot drink', 'likes a drink before dinner']\n",
      "Hypernyms: [Synset('helping.n.01')]\n",
      "Hyponyms: [Synset('chaser.n.02'), Synset('draft.n.04'), Synset('eye_opener.n.01'), Synset('frappe.n.01'), Synset('hair_of_the_dog.n.01'), Synset('ice-cream_soda.n.01'), Synset('libation.n.01'), Synset('milkshake.n.01'), Synset('nightcap.n.01'), Synset('pledge.n.03'), Synset('posset.n.01'), Synset('sangaree.n.01'), Synset('shandygaff.n.01'), Synset('stirrup_cup.n.01'), Synset('sundowner.n.02'), Synset('syllabub.n.01'), Synset('whiskey_neat.n.01'), Synset('whiskey_on_the_rocks.n.01')]\n"
     ]
    }
   ],
   "source": [
    "from nltk.corpus import wordnet\n",
    "synset = wordnet.synsets('drink')[0]\n",
    "print(\"\\nSynset details for 'drink':\")\n",
    "print(\"Name:\", synset.name())\n",
    "print(\"Definition:\", synset.definition())\n",
    "print(\"Examples:\", synset.examples())\n",
    "print(\"Hypernyms:\", synset.hypernyms())\n",
    "print(\"Hyponyms:\", synset.hyponyms())"
   ]
  },
  {
   "cell_type": "code",
   "execution_count": 17,
   "metadata": {},
   "outputs": [
    {
     "data": {
      "text/plain": [
       "['i',\n",
       " 'me',\n",
       " 'my',\n",
       " 'myself',\n",
       " 'we',\n",
       " 'our',\n",
       " 'ours',\n",
       " 'ourselves',\n",
       " 'you',\n",
       " \"you're\",\n",
       " \"you've\",\n",
       " \"you'll\",\n",
       " \"you'd\",\n",
       " 'your',\n",
       " 'yours',\n",
       " 'yourself',\n",
       " 'yourselves',\n",
       " 'he',\n",
       " 'him',\n",
       " 'his',\n",
       " 'himself',\n",
       " 'she',\n",
       " \"she's\",\n",
       " 'her',\n",
       " 'hers',\n",
       " 'herself',\n",
       " 'it',\n",
       " \"it's\",\n",
       " 'its',\n",
       " 'itself',\n",
       " 'they',\n",
       " 'them',\n",
       " 'their',\n",
       " 'theirs',\n",
       " 'themselves',\n",
       " 'what',\n",
       " 'which',\n",
       " 'who',\n",
       " 'whom',\n",
       " 'this',\n",
       " 'that',\n",
       " \"that'll\",\n",
       " 'these',\n",
       " 'those',\n",
       " 'am',\n",
       " 'is',\n",
       " 'are',\n",
       " 'was',\n",
       " 'were',\n",
       " 'be',\n",
       " 'been',\n",
       " 'being',\n",
       " 'have',\n",
       " 'has',\n",
       " 'had',\n",
       " 'having',\n",
       " 'do',\n",
       " 'does',\n",
       " 'did',\n",
       " 'doing',\n",
       " 'a',\n",
       " 'an',\n",
       " 'the',\n",
       " 'and',\n",
       " 'but',\n",
       " 'if',\n",
       " 'or',\n",
       " 'because',\n",
       " 'as',\n",
       " 'until',\n",
       " 'while',\n",
       " 'of',\n",
       " 'at',\n",
       " 'by',\n",
       " 'for',\n",
       " 'with',\n",
       " 'about',\n",
       " 'against',\n",
       " 'between',\n",
       " 'into',\n",
       " 'through',\n",
       " 'during',\n",
       " 'before',\n",
       " 'after',\n",
       " 'above',\n",
       " 'below',\n",
       " 'to',\n",
       " 'from',\n",
       " 'up',\n",
       " 'down',\n",
       " 'in',\n",
       " 'out',\n",
       " 'on',\n",
       " 'off',\n",
       " 'over',\n",
       " 'under',\n",
       " 'again',\n",
       " 'further',\n",
       " 'then',\n",
       " 'once',\n",
       " 'here',\n",
       " 'there',\n",
       " 'when',\n",
       " 'where',\n",
       " 'why',\n",
       " 'how',\n",
       " 'all',\n",
       " 'any',\n",
       " 'both',\n",
       " 'each',\n",
       " 'few',\n",
       " 'more',\n",
       " 'most',\n",
       " 'other',\n",
       " 'some',\n",
       " 'such',\n",
       " 'no',\n",
       " 'nor',\n",
       " 'not',\n",
       " 'only',\n",
       " 'own',\n",
       " 'same',\n",
       " 'so',\n",
       " 'than',\n",
       " 'too',\n",
       " 'very',\n",
       " 's',\n",
       " 't',\n",
       " 'can',\n",
       " 'will',\n",
       " 'just',\n",
       " 'don',\n",
       " \"don't\",\n",
       " 'should',\n",
       " \"should've\",\n",
       " 'now',\n",
       " 'd',\n",
       " 'll',\n",
       " 'm',\n",
       " 'o',\n",
       " 're',\n",
       " 've',\n",
       " 'y',\n",
       " 'ain',\n",
       " 'aren',\n",
       " \"aren't\",\n",
       " 'couldn',\n",
       " \"couldn't\",\n",
       " 'didn',\n",
       " \"didn't\",\n",
       " 'doesn',\n",
       " \"doesn't\",\n",
       " 'hadn',\n",
       " \"hadn't\",\n",
       " 'hasn',\n",
       " \"hasn't\",\n",
       " 'haven',\n",
       " \"haven't\",\n",
       " 'isn',\n",
       " \"isn't\",\n",
       " 'ma',\n",
       " 'mightn',\n",
       " \"mightn't\",\n",
       " 'mustn',\n",
       " \"mustn't\",\n",
       " 'needn',\n",
       " \"needn't\",\n",
       " 'shan',\n",
       " \"shan't\",\n",
       " 'shouldn',\n",
       " \"shouldn't\",\n",
       " 'wasn',\n",
       " \"wasn't\",\n",
       " 'weren',\n",
       " \"weren't\",\n",
       " 'won',\n",
       " \"won't\",\n",
       " 'wouldn',\n",
       " \"wouldn't\"]"
      ]
     },
     "execution_count": 17,
     "metadata": {},
     "output_type": "execute_result"
    }
   ],
   "source": [
    "stopwords.words('english')"
   ]
  },
  {
   "cell_type": "code",
   "execution_count": 18,
   "metadata": {},
   "outputs": [
    {
     "name": "stdout",
     "output_type": "stream",
     "text": [
      "irat\n",
      "kohli\n",
      "hindi\n",
      "pronunci\n",
      "[\n",
      "ko\n",
      "li\n",
      "]\n",
      "born\n",
      "novemb\n",
      "indian\n",
      "intern\n",
      "cricket\n",
      "former\n",
      "captain\n",
      "indian\n",
      "nation\n",
      "cricket\n",
      "team\n",
      "he\n",
      "right\n",
      "hand\n",
      "batsman\n",
      "occasion\n",
      "medium\n",
      "fast\n",
      "bowler\n",
      "he\n",
      "current\n",
      "repres\n",
      "royal\n",
      "challeng\n",
      "bengaluru\n",
      "ipl\n",
      "delhi\n",
      "domest\n",
      "cricket\n",
      "kohli\n",
      "wide\n",
      "regard\n",
      "one\n",
      "greatest\n",
      "batsmen\n",
      "time\n",
      "[\n",
      "]\n",
      "he\n",
      "hold\n",
      "record\n",
      "highest\n",
      "run\n",
      "scorer\n",
      "ipl\n",
      "rank\n",
      "second\n",
      "t\n",
      "i\n",
      "third\n",
      "odi\n",
      "stand\n",
      "fourth\n",
      "highest\n",
      "intern\n",
      "cricket\n",
      "[\n",
      "]\n",
      "he\n",
      "also\n",
      "hold\n",
      "record\n",
      "score\n",
      "centuri\n",
      "odi\n",
      "cricket\n",
      "stand\n",
      "second\n",
      "list\n",
      "intern\n",
      "centuri\n",
      "score\n",
      "kohli\n",
      "key\n",
      "member\n",
      "indian\n",
      "team\n",
      "cricket\n",
      "world\n",
      "cup\n",
      "icc\n",
      "champion\n",
      "trophi\n",
      "captain\n",
      "india\n",
      "win\n",
      "icc\n",
      "test\n",
      "mace\n",
      "three\n",
      "consecut\n",
      "time\n",
      "[\n",
      "]\n"
     ]
    }
   ],
   "source": [
    "for i in corpus:\n",
    "    words = nltk.word_tokenize(i)\n",
    "    for word in words:\n",
    "        if word not in set(stopwords.words('english')):\n",
    "            print(stemmer.stem(word))"
   ]
  },
  {
   "cell_type": "code",
   "execution_count": 19,
   "metadata": {},
   "outputs": [
    {
     "name": "stdout",
     "output_type": "stream",
     "text": [
      "irat\n",
      "Kohli\n",
      "Hindi\n",
      "pronunciation\n",
      "[\n",
      "ko\n",
      "li\n",
      "]\n",
      "born\n",
      "November\n",
      "Indian\n",
      "international\n",
      "cricketer\n",
      "former\n",
      "captain\n",
      "Indian\n",
      "national\n",
      "cricket\n",
      "team\n",
      "He\n",
      "right\n",
      "handed\n",
      "batsman\n",
      "occasional\n",
      "medium\n",
      "fast\n",
      "bowler\n",
      "He\n",
      "currently\n",
      "represents\n",
      "Royal\n",
      "Challengers\n",
      "Bengaluru\n",
      "IPL\n",
      "Delhi\n",
      "domestic\n",
      "cricket\n",
      "Kohli\n",
      "widely\n",
      "regarded\n",
      "one\n",
      "greatest\n",
      "batsman\n",
      "time\n",
      "[\n",
      "]\n",
      "He\n",
      "hold\n",
      "record\n",
      "highest\n",
      "run\n",
      "scorer\n",
      "IPL\n",
      "rank\n",
      "second\n",
      "T\n",
      "I\n",
      "third\n",
      "ODI\n",
      "stand\n",
      "fourth\n",
      "highest\n",
      "international\n",
      "cricket\n",
      "[\n",
      "]\n",
      "He\n",
      "also\n",
      "hold\n",
      "record\n",
      "scoring\n",
      "century\n",
      "ODI\n",
      "cricket\n",
      "stand\n",
      "second\n",
      "list\n",
      "international\n",
      "century\n",
      "scored\n",
      "Kohli\n",
      "key\n",
      "member\n",
      "Indian\n",
      "team\n",
      "Cricket\n",
      "World\n",
      "Cup\n",
      "ICC\n",
      "Champions\n",
      "Trophy\n",
      "captained\n",
      "India\n",
      "win\n",
      "ICC\n",
      "Test\n",
      "mace\n",
      "three\n",
      "consecutive\n",
      "time\n",
      "[\n",
      "]\n"
     ]
    }
   ],
   "source": [
    "for i in corpus:\n",
    "    words = nltk.word_tokenize(i)\n",
    "    for word in words:\n",
    "        if word not in set(stopwords.words('english')):\n",
    "            print(lemmatizer.lemmatize(word))"
   ]
  },
  {
   "cell_type": "code",
   "execution_count": 20,
   "metadata": {},
   "outputs": [],
   "source": [
    "from sklearn.feature_extraction.text import CountVectorizer\n",
    "cv = CountVectorizer(binary=True,ngram_range=(3,3))"
   ]
  },
  {
   "cell_type": "code",
   "execution_count": 21,
   "metadata": {},
   "outputs": [],
   "source": [
    "x = cv.fit_transform(corpus)"
   ]
  },
  {
   "cell_type": "code",
   "execution_count": 22,
   "metadata": {},
   "outputs": [
    {
     "data": {
      "text/plain": [
       "{'irat kohli hindi': 59,\n",
       " 'kohli hindi pronunciation': 65,\n",
       " 'hindi pronunciation ko': 39,\n",
       " 'pronunciation ko li': 85,\n",
       " 'ko li born': 64,\n",
       " 'li born november': 68,\n",
       " 'born november is': 15,\n",
       " 'november is an': 76,\n",
       " 'is an indian': 60,\n",
       " 'an indian international': 1,\n",
       " 'indian international cricketer': 52,\n",
       " 'international cricketer and': 56,\n",
       " 'cricketer and the': 24,\n",
       " 'and the former': 8,\n",
       " 'the former captain': 104,\n",
       " 'former captain of': 29,\n",
       " 'captain of the': 16,\n",
       " 'of the indian': 83,\n",
       " 'the indian national': 109,\n",
       " 'indian national cricket': 53,\n",
       " 'national cricket team': 75,\n",
       " 'he is right': 36,\n",
       " 'is right handed': 61,\n",
       " 'right handed batsman': 91,\n",
       " 'handed batsman and': 32,\n",
       " 'batsman and an': 12,\n",
       " 'and an occasional': 3,\n",
       " 'an occasional medium': 2,\n",
       " 'occasional medium fast': 77,\n",
       " 'medium fast bowler': 71,\n",
       " 'he currently represents': 34,\n",
       " 'currently represents royal': 26,\n",
       " 'represents royal challengers': 90,\n",
       " 'royal challengers bengaluru': 92,\n",
       " 'challengers bengaluru in': 19,\n",
       " 'bengaluru in the': 14,\n",
       " 'in the ipl': 48,\n",
       " 'the ipl and': 111,\n",
       " 'ipl and delhi': 57,\n",
       " 'and delhi in': 5,\n",
       " 'delhi in domestic': 27,\n",
       " 'in domestic cricket': 43,\n",
       " 'kohli is widely': 66,\n",
       " 'is widely regarded': 62,\n",
       " 'widely regarded as': 122,\n",
       " 'regarded as one': 89,\n",
       " 'as one of': 9,\n",
       " 'one of the': 84,\n",
       " 'of the greatest': 82,\n",
       " 'the greatest batsmen': 106,\n",
       " 'greatest batsmen of': 31,\n",
       " 'batsmen of all': 13,\n",
       " 'of all time': 80,\n",
       " 'he holds the': 35,\n",
       " 'holds the record': 40,\n",
       " 'the record as': 114,\n",
       " 'record as the': 87,\n",
       " 'as the highest': 11,\n",
       " 'the highest run': 107,\n",
       " 'highest run scorer': 38,\n",
       " 'run scorer in': 93,\n",
       " 'scorer in ipl': 94,\n",
       " 'in ipl ranks': 45,\n",
       " 'ipl ranks second': 58,\n",
       " 'ranks second in': 86,\n",
       " 'second in third': 97,\n",
       " 'in third in': 50,\n",
       " 'third in odi': 116,\n",
       " 'in odi and': 46,\n",
       " 'odi and stands': 78,\n",
       " 'and stands as': 6,\n",
       " 'stands as the': 98,\n",
       " 'as the fourth': 10,\n",
       " 'the fourth highest': 105,\n",
       " 'fourth highest in': 30,\n",
       " 'highest in international': 37,\n",
       " 'in international cricket': 44,\n",
       " 'he also holds': 33,\n",
       " 'also holds the': 0,\n",
       " 'the record for': 115,\n",
       " 'record for scoring': 88,\n",
       " 'for scoring the': 28,\n",
       " 'scoring the most': 95,\n",
       " 'the most centuries': 113,\n",
       " 'most centuries in': 73,\n",
       " 'centuries in odi': 18,\n",
       " 'in odi cricket': 47,\n",
       " 'odi cricket and': 79,\n",
       " 'cricket and stands': 22,\n",
       " 'and stands second': 7,\n",
       " 'stands second in': 99,\n",
       " 'second in the': 96,\n",
       " 'in the list': 49,\n",
       " 'the list of': 112,\n",
       " 'list of most': 69,\n",
       " 'of most international': 81,\n",
       " 'most international centuries': 74,\n",
       " 'international centuries scored': 55,\n",
       " 'kohli was key': 67,\n",
       " 'was key member': 121,\n",
       " 'key member of': 63,\n",
       " 'member of the': 72,\n",
       " 'the indian team': 110,\n",
       " 'indian team that': 54,\n",
       " 'team that won': 100,\n",
       " 'that won the': 102,\n",
       " 'won the cricket': 124,\n",
       " 'the cricket world': 103,\n",
       " 'cricket world cup': 23,\n",
       " 'world cup icc': 125,\n",
       " 'cup icc champions': 25,\n",
       " 'icc champions trophy': 41,\n",
       " 'champions trophy and': 20,\n",
       " 'trophy and captained': 120,\n",
       " 'and captained india': 4,\n",
       " 'captained india to': 17,\n",
       " 'india to win': 51,\n",
       " 'to win the': 119,\n",
       " 'win the icc': 123,\n",
       " 'the icc test': 108,\n",
       " 'icc test mace': 42,\n",
       " 'test mace three': 101,\n",
       " 'mace three consecutive': 70,\n",
       " 'three consecutive times': 117,\n",
       " 'consecutive times in': 21,\n",
       " 'times in and': 118}"
      ]
     },
     "execution_count": 22,
     "metadata": {},
     "output_type": "execute_result"
    }
   ],
   "source": [
    "cv.vocabulary_"
   ]
  },
  {
   "cell_type": "code",
   "execution_count": 42,
   "metadata": {},
   "outputs": [
    {
     "data": {
      "text/plain": [
       "' irat Kohli  Hindi pronunciation  [         ko  li]    born   November       is an Indian international cricketer and the former captain of the Indian national cricket team '"
      ]
     },
     "execution_count": 42,
     "metadata": {},
     "output_type": "execute_result"
    }
   ],
   "source": [
    "corpus[0]"
   ]
  },
  {
   "cell_type": "code",
   "execution_count": 43,
   "metadata": {},
   "outputs": [
    {
     "data": {
      "text/plain": [
       "array([[0, 0, 1, 1, 0, 0, 0, 0, 1, 0, 1, 0, 0, 0, 0, 0, 1, 1, 0, 0, 0, 0,\n",
       "        0, 0, 1, 0, 0, 0, 0, 0, 1, 0, 0, 0, 0, 1, 1, 0, 1, 1, 0, 1, 1, 1,\n",
       "        0, 0, 0, 0, 0, 1, 1, 0, 0, 1, 0, 1, 0, 0, 0, 0, 0, 0, 0, 0, 0, 0,\n",
       "        0, 0, 1, 0, 0, 1, 0, 0, 0, 0, 0, 0, 0, 0, 0, 0, 0]], dtype=int64)"
      ]
     },
     "execution_count": 43,
     "metadata": {},
     "output_type": "execute_result"
    }
   ],
   "source": [
    "x[0].toarray()"
   ]
  },
  {
   "cell_type": "code",
   "execution_count": 24,
   "metadata": {},
   "outputs": [],
   "source": [
    "from sklearn.feature_extraction.text import TfidfVectorizer"
   ]
  },
  {
   "cell_type": "code",
   "execution_count": 30,
   "metadata": {},
   "outputs": [],
   "source": [
    "cv = TfidfVectorizer(ngram_range=(3,3))"
   ]
  },
  {
   "cell_type": "code",
   "execution_count": 31,
   "metadata": {},
   "outputs": [],
   "source": [
    "y = cv.fit_transform(corpus)"
   ]
  },
  {
   "cell_type": "code",
   "execution_count": 32,
   "metadata": {},
   "outputs": [
    {
     "data": {
      "text/plain": [
       "array([[0.        , 0.21978088, 0.        , 0.        , 0.        ,\n",
       "        0.        , 0.        , 0.        , 0.21978088, 0.        ,\n",
       "        0.        , 0.        , 0.        , 0.        , 0.        ,\n",
       "        0.21978088, 0.21978088, 0.        , 0.        , 0.        ,\n",
       "        0.        , 0.        , 0.        , 0.        , 0.21978088,\n",
       "        0.        , 0.        , 0.        , 0.        , 0.21978088,\n",
       "        0.        , 0.        , 0.        , 0.        , 0.        ,\n",
       "        0.        , 0.        , 0.        , 0.        , 0.21978088,\n",
       "        0.        , 0.        , 0.        , 0.        , 0.        ,\n",
       "        0.        , 0.        , 0.        , 0.        , 0.        ,\n",
       "        0.        , 0.        , 0.21978088, 0.21978088, 0.        ,\n",
       "        0.        , 0.21978088, 0.        , 0.        , 0.21978088,\n",
       "        0.21978088, 0.        , 0.        , 0.        , 0.21978088,\n",
       "        0.21978088, 0.        , 0.        , 0.21978088, 0.        ,\n",
       "        0.        , 0.        , 0.        , 0.        , 0.        ,\n",
       "        0.21978088, 0.21978088, 0.        , 0.        , 0.        ,\n",
       "        0.        , 0.        , 0.        , 0.18419353, 0.        ,\n",
       "        0.21978088, 0.        , 0.        , 0.        , 0.        ,\n",
       "        0.        , 0.        , 0.        , 0.        , 0.        ,\n",
       "        0.        , 0.        , 0.        , 0.        , 0.        ,\n",
       "        0.        , 0.        , 0.        , 0.        , 0.21978088,\n",
       "        0.        , 0.        , 0.        , 0.        , 0.21978088,\n",
       "        0.        , 0.        , 0.        , 0.        , 0.        ,\n",
       "        0.        , 0.        , 0.        , 0.        , 0.        ,\n",
       "        0.        , 0.        , 0.        , 0.        , 0.        ,\n",
       "        0.        ]])"
      ]
     },
     "execution_count": 32,
     "metadata": {},
     "output_type": "execute_result"
    }
   ],
   "source": [
    "y[0].toarray()"
   ]
  }
 ],
 "metadata": {
  "kernelspec": {
   "display_name": "Python 3",
   "language": "python",
   "name": "python3"
  },
  "language_info": {
   "codemirror_mode": {
    "name": "ipython",
    "version": 3
   },
   "file_extension": ".py",
   "mimetype": "text/x-python",
   "name": "python",
   "nbconvert_exporter": "python",
   "pygments_lexer": "ipython3",
   "version": "3.10.5"
  }
 },
 "nbformat": 4,
 "nbformat_minor": 2
}
