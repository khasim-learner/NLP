{
  "nbformat": 4,
  "nbformat_minor": 0,
  "metadata": {
    "colab": {
      "provenance": []
    },
    "kernelspec": {
      "name": "python3",
      "display_name": "Python 3"
    },
    "language_info": {
      "name": "python"
    }
  },
  "cells": [
    {
      "cell_type": "code",
      "execution_count": 1,
      "metadata": {
        "colab": {
          "base_uri": "https://localhost:8080/"
        },
        "id": "w6nonLh9tY2u",
        "outputId": "87596ca1-80ae-48d9-81f3-3c4a8f5a1faa"
      },
      "outputs": [
        {
          "output_type": "stream",
          "name": "stdout",
          "text": [
            "Requirement already satisfied: gensim in /usr/local/lib/python3.10/dist-packages (4.3.2)\n",
            "Requirement already satisfied: numpy>=1.18.5 in /usr/local/lib/python3.10/dist-packages (from gensim) (1.25.2)\n",
            "Requirement already satisfied: scipy>=1.7.0 in /usr/local/lib/python3.10/dist-packages (from gensim) (1.11.4)\n",
            "Requirement already satisfied: smart-open>=1.8.1 in /usr/local/lib/python3.10/dist-packages (from gensim) (7.0.4)\n",
            "Requirement already satisfied: wrapt in /usr/local/lib/python3.10/dist-packages (from smart-open>=1.8.1->gensim) (1.14.1)\n"
          ]
        }
      ],
      "source": [
        "pip install gensim"
      ]
    },
    {
      "cell_type": "code",
      "source": [
        "import gensim"
      ],
      "metadata": {
        "id": "fQZQFAN1tfhe"
      },
      "execution_count": 2,
      "outputs": []
    },
    {
      "cell_type": "code",
      "source": [
        "from gensim.models import Word2Vec,KeyedVectors"
      ],
      "metadata": {
        "id": "HIfO89hHt2Mj"
      },
      "execution_count": 3,
      "outputs": []
    },
    {
      "cell_type": "code",
      "source": [
        "import gensim.downloader as api"
      ],
      "metadata": {
        "id": "tQwgTVfWuE2X"
      },
      "execution_count": 4,
      "outputs": []
    },
    {
      "cell_type": "code",
      "source": [
        "wv = api.load('word2vec-google-news-300')\n",
        "vec_king = wv['king']"
      ],
      "metadata": {
        "colab": {
          "base_uri": "https://localhost:8080/"
        },
        "id": "0tuPdYGuuKUa",
        "outputId": "4687f097-4c62-448a-8143-b92259618419"
      },
      "execution_count": 5,
      "outputs": [
        {
          "output_type": "stream",
          "name": "stdout",
          "text": [
            "[==================================================] 100.0% 1662.8/1662.8MB downloaded\n"
          ]
        }
      ]
    },
    {
      "cell_type": "code",
      "source": [
        "vec_king"
      ],
      "metadata": {
        "colab": {
          "base_uri": "https://localhost:8080/"
        },
        "id": "AFjsYa9DuVUQ",
        "outputId": "9b8b07dd-de35-4fc5-e7e5-c79cb2c7abb7"
      },
      "execution_count": 6,
      "outputs": [
        {
          "output_type": "execute_result",
          "data": {
            "text/plain": [
              "array([ 1.25976562e-01,  2.97851562e-02,  8.60595703e-03,  1.39648438e-01,\n",
              "       -2.56347656e-02, -3.61328125e-02,  1.11816406e-01, -1.98242188e-01,\n",
              "        5.12695312e-02,  3.63281250e-01, -2.42187500e-01, -3.02734375e-01,\n",
              "       -1.77734375e-01, -2.49023438e-02, -1.67968750e-01, -1.69921875e-01,\n",
              "        3.46679688e-02,  5.21850586e-03,  4.63867188e-02,  1.28906250e-01,\n",
              "        1.36718750e-01,  1.12792969e-01,  5.95703125e-02,  1.36718750e-01,\n",
              "        1.01074219e-01, -1.76757812e-01, -2.51953125e-01,  5.98144531e-02,\n",
              "        3.41796875e-01, -3.11279297e-02,  1.04492188e-01,  6.17675781e-02,\n",
              "        1.24511719e-01,  4.00390625e-01, -3.22265625e-01,  8.39843750e-02,\n",
              "        3.90625000e-02,  5.85937500e-03,  7.03125000e-02,  1.72851562e-01,\n",
              "        1.38671875e-01, -2.31445312e-01,  2.83203125e-01,  1.42578125e-01,\n",
              "        3.41796875e-01, -2.39257812e-02, -1.09863281e-01,  3.32031250e-02,\n",
              "       -5.46875000e-02,  1.53198242e-02, -1.62109375e-01,  1.58203125e-01,\n",
              "       -2.59765625e-01,  2.01416016e-02, -1.63085938e-01,  1.35803223e-03,\n",
              "       -1.44531250e-01, -5.68847656e-02,  4.29687500e-02, -2.46582031e-02,\n",
              "        1.85546875e-01,  4.47265625e-01,  9.58251953e-03,  1.31835938e-01,\n",
              "        9.86328125e-02, -1.85546875e-01, -1.00097656e-01, -1.33789062e-01,\n",
              "       -1.25000000e-01,  2.83203125e-01,  1.23046875e-01,  5.32226562e-02,\n",
              "       -1.77734375e-01,  8.59375000e-02, -2.18505859e-02,  2.05078125e-02,\n",
              "       -1.39648438e-01,  2.51464844e-02,  1.38671875e-01, -1.05468750e-01,\n",
              "        1.38671875e-01,  8.88671875e-02, -7.51953125e-02, -2.13623047e-02,\n",
              "        1.72851562e-01,  4.63867188e-02, -2.65625000e-01,  8.91113281e-03,\n",
              "        1.49414062e-01,  3.78417969e-02,  2.38281250e-01, -1.24511719e-01,\n",
              "       -2.17773438e-01, -1.81640625e-01,  2.97851562e-02,  5.71289062e-02,\n",
              "       -2.89306641e-02,  1.24511719e-02,  9.66796875e-02, -2.31445312e-01,\n",
              "        5.81054688e-02,  6.68945312e-02,  7.08007812e-02, -3.08593750e-01,\n",
              "       -2.14843750e-01,  1.45507812e-01, -4.27734375e-01, -9.39941406e-03,\n",
              "        1.54296875e-01, -7.66601562e-02,  2.89062500e-01,  2.77343750e-01,\n",
              "       -4.86373901e-04, -1.36718750e-01,  3.24218750e-01, -2.46093750e-01,\n",
              "       -3.03649902e-03, -2.11914062e-01,  1.25000000e-01,  2.69531250e-01,\n",
              "        2.04101562e-01,  8.25195312e-02, -2.01171875e-01, -1.60156250e-01,\n",
              "       -3.78417969e-02, -1.20117188e-01,  1.15234375e-01, -4.10156250e-02,\n",
              "       -3.95507812e-02, -8.98437500e-02,  6.34765625e-03,  2.03125000e-01,\n",
              "        1.86523438e-01,  2.73437500e-01,  6.29882812e-02,  1.41601562e-01,\n",
              "       -9.81445312e-02,  1.38671875e-01,  1.82617188e-01,  1.73828125e-01,\n",
              "        1.73828125e-01, -2.37304688e-01,  1.78710938e-01,  6.34765625e-02,\n",
              "        2.36328125e-01, -2.08984375e-01,  8.74023438e-02, -1.66015625e-01,\n",
              "       -7.91015625e-02,  2.43164062e-01, -8.88671875e-02,  1.26953125e-01,\n",
              "       -2.16796875e-01, -1.73828125e-01, -3.59375000e-01, -8.25195312e-02,\n",
              "       -6.49414062e-02,  5.07812500e-02,  1.35742188e-01, -7.47070312e-02,\n",
              "       -1.64062500e-01,  1.15356445e-02,  4.45312500e-01, -2.15820312e-01,\n",
              "       -1.11328125e-01, -1.92382812e-01,  1.70898438e-01, -1.25000000e-01,\n",
              "        2.65502930e-03,  1.92382812e-01, -1.74804688e-01,  1.39648438e-01,\n",
              "        2.92968750e-01,  1.13281250e-01,  5.95703125e-02, -6.39648438e-02,\n",
              "        9.96093750e-02, -2.72216797e-02,  1.96533203e-02,  4.27246094e-02,\n",
              "       -2.46093750e-01,  6.39648438e-02, -2.25585938e-01, -1.68945312e-01,\n",
              "        2.89916992e-03,  8.20312500e-02,  3.41796875e-01,  4.32128906e-02,\n",
              "        1.32812500e-01,  1.42578125e-01,  7.61718750e-02,  5.98144531e-02,\n",
              "       -1.19140625e-01,  2.74658203e-03, -6.29882812e-02, -2.72216797e-02,\n",
              "       -4.82177734e-03, -8.20312500e-02, -2.49023438e-02, -4.00390625e-01,\n",
              "       -1.06933594e-01,  4.24804688e-02,  7.76367188e-02, -1.16699219e-01,\n",
              "        7.37304688e-02, -9.22851562e-02,  1.07910156e-01,  1.58203125e-01,\n",
              "        4.24804688e-02,  1.26953125e-01,  3.61328125e-02,  2.67578125e-01,\n",
              "       -1.01074219e-01, -3.02734375e-01, -5.76171875e-02,  5.05371094e-02,\n",
              "        5.26428223e-04, -2.07031250e-01, -1.38671875e-01, -8.97216797e-03,\n",
              "       -2.78320312e-02, -1.41601562e-01,  2.07031250e-01, -1.58203125e-01,\n",
              "        1.27929688e-01,  1.49414062e-01, -2.24609375e-02, -8.44726562e-02,\n",
              "        1.22558594e-01,  2.15820312e-01, -2.13867188e-01, -3.12500000e-01,\n",
              "       -3.73046875e-01,  4.08935547e-03,  1.07421875e-01,  1.06933594e-01,\n",
              "        7.32421875e-02,  8.97216797e-03, -3.88183594e-02, -1.29882812e-01,\n",
              "        1.49414062e-01, -2.14843750e-01, -1.83868408e-03,  9.91210938e-02,\n",
              "        1.57226562e-01, -1.14257812e-01, -2.05078125e-01,  9.91210938e-02,\n",
              "        3.69140625e-01, -1.97265625e-01,  3.54003906e-02,  1.09375000e-01,\n",
              "        1.31835938e-01,  1.66992188e-01,  2.35351562e-01,  1.04980469e-01,\n",
              "       -4.96093750e-01, -1.64062500e-01, -1.56250000e-01, -5.22460938e-02,\n",
              "        1.03027344e-01,  2.43164062e-01, -1.88476562e-01,  5.07812500e-02,\n",
              "       -9.37500000e-02, -6.68945312e-02,  2.27050781e-02,  7.61718750e-02,\n",
              "        2.89062500e-01,  3.10546875e-01, -5.37109375e-02,  2.28515625e-01,\n",
              "        2.51464844e-02,  6.78710938e-02, -1.21093750e-01, -2.15820312e-01,\n",
              "       -2.73437500e-01, -3.07617188e-02, -3.37890625e-01,  1.53320312e-01,\n",
              "        2.33398438e-01, -2.08007812e-01,  3.73046875e-01,  8.20312500e-02,\n",
              "        2.51953125e-01, -7.61718750e-02, -4.66308594e-02, -2.23388672e-02,\n",
              "        2.99072266e-02, -5.93261719e-02, -4.66918945e-03, -2.44140625e-01,\n",
              "       -2.09960938e-01, -2.87109375e-01, -4.54101562e-02, -1.77734375e-01,\n",
              "       -2.79296875e-01, -8.59375000e-02,  9.13085938e-02,  2.51953125e-01],\n",
              "      dtype=float32)"
            ]
          },
          "metadata": {},
          "execution_count": 6
        }
      ]
    },
    {
      "cell_type": "markdown",
      "source": [
        "So we can find Similiarity b/w words"
      ],
      "metadata": {
        "id": "cu1DrhHAzIVd"
      }
    },
    {
      "cell_type": "code",
      "source": [
        "wv.most_similar('cricket')"
      ],
      "metadata": {
        "colab": {
          "base_uri": "https://localhost:8080/"
        },
        "id": "zi638hGoyt8z",
        "outputId": "8f21add7-559e-4024-c4c3-433e88fd2f3b"
      },
      "execution_count": 7,
      "outputs": [
        {
          "output_type": "execute_result",
          "data": {
            "text/plain": [
              "[('cricketing', 0.8372225761413574),\n",
              " ('cricketers', 0.8165745735168457),\n",
              " ('Test_cricket', 0.8094819188117981),\n",
              " ('Twenty##_cricket', 0.8068488240242004),\n",
              " ('Twenty##', 0.7624265551567078),\n",
              " ('Cricket', 0.75413978099823),\n",
              " ('cricketer', 0.7372578382492065),\n",
              " ('twenty##', 0.7316356897354126),\n",
              " ('T##_cricket', 0.7304614186286926),\n",
              " ('West_Indies_cricket', 0.6987985968589783)]"
            ]
          },
          "metadata": {},
          "execution_count": 7
        }
      ]
    },
    {
      "cell_type": "code",
      "source": [
        "wv.most_similar('happy')"
      ],
      "metadata": {
        "colab": {
          "base_uri": "https://localhost:8080/"
        },
        "id": "hzCnSPc7y-ys",
        "outputId": "5969aae0-29b1-4183-dd6e-ea88df9672d1"
      },
      "execution_count": 8,
      "outputs": [
        {
          "output_type": "execute_result",
          "data": {
            "text/plain": [
              "[('glad', 0.7408890724182129),\n",
              " ('pleased', 0.6632170677185059),\n",
              " ('ecstatic', 0.6626912355422974),\n",
              " ('overjoyed', 0.6599286794662476),\n",
              " ('thrilled', 0.6514049172401428),\n",
              " ('satisfied', 0.6437949538230896),\n",
              " ('proud', 0.636042058467865),\n",
              " ('delighted', 0.627237856388092),\n",
              " ('disappointed', 0.6269949674606323),\n",
              " ('excited', 0.6247665286064148)]"
            ]
          },
          "metadata": {},
          "execution_count": 8
        }
      ]
    },
    {
      "cell_type": "code",
      "source": [
        "wv.similarity(\"cricket\",\"sports\")"
      ],
      "metadata": {
        "colab": {
          "base_uri": "https://localhost:8080/"
        },
        "id": "3GYL8TDezGVD",
        "outputId": "709b4401-dc14-4e07-aaee-d85583c79d14"
      },
      "execution_count": 9,
      "outputs": [
        {
          "output_type": "execute_result",
          "data": {
            "text/plain": [
              "0.40087253"
            ]
          },
          "metadata": {},
          "execution_count": 9
        }
      ]
    },
    {
      "cell_type": "code",
      "source": [
        "wv.similarity(\"king\",\"queen\")"
      ],
      "metadata": {
        "colab": {
          "base_uri": "https://localhost:8080/"
        },
        "id": "jQefKD2V0CQu",
        "outputId": "568406eb-7bb2-44f8-a629-8bb6e3185f9d"
      },
      "execution_count": 15,
      "outputs": [
        {
          "output_type": "execute_result",
          "data": {
            "text/plain": [
              "0.6510957"
            ]
          },
          "metadata": {},
          "execution_count": 15
        }
      ]
    },
    {
      "cell_type": "code",
      "source": [
        "wv.similarity(\"football\",\"sports\")"
      ],
      "metadata": {
        "colab": {
          "base_uri": "https://localhost:8080/"
        },
        "id": "yixW2LZnzSZU",
        "outputId": "5a7e519e-4c8d-43c7-bfd2-a61b0af8a007"
      },
      "execution_count": 10,
      "outputs": [
        {
          "output_type": "execute_result",
          "data": {
            "text/plain": [
              "0.5927178"
            ]
          },
          "metadata": {},
          "execution_count": 10
        }
      ]
    },
    {
      "cell_type": "code",
      "source": [
        "wv.most_similar(positive=['king', 'woman'], negative=['man'])"
      ],
      "metadata": {
        "colab": {
          "base_uri": "https://localhost:8080/"
        },
        "id": "HYRgxqf70M10",
        "outputId": "4d7ea892-c9b6-4dd6-dd68-58b71bc78618"
      },
      "execution_count": 16,
      "outputs": [
        {
          "output_type": "execute_result",
          "data": {
            "text/plain": [
              "[('queen', 0.7118193507194519),\n",
              " ('monarch', 0.6189674139022827),\n",
              " ('princess', 0.5902431011199951),\n",
              " ('crown_prince', 0.5499460697174072),\n",
              " ('prince', 0.5377321839332581),\n",
              " ('kings', 0.5236844420433044),\n",
              " ('Queen_Consort', 0.5235945582389832),\n",
              " ('queens', 0.5181134343147278),\n",
              " ('sultan', 0.5098593831062317),\n",
              " ('monarchy', 0.5087411999702454)]"
            ]
          },
          "metadata": {},
          "execution_count": 16
        }
      ]
    },
    {
      "cell_type": "code",
      "source": [
        "vec = wv[\"king\"] - wv[\"man\"] + wv[\"women\"]"
      ],
      "metadata": {
        "id": "pCRvnh3YzXTT"
      },
      "execution_count": 11,
      "outputs": []
    },
    {
      "cell_type": "code",
      "source": [
        "vec"
      ],
      "metadata": {
        "colab": {
          "base_uri": "https://localhost:8080/"
        },
        "id": "Ou5SdHK6zfHU",
        "outputId": "fc0bc37c-cf76-48ea-a173-1c5380a74a80"
      },
      "execution_count": 12,
      "outputs": [
        {
          "output_type": "execute_result",
          "data": {
            "text/plain": [
              "array([-0.33984375,  0.06298828, -0.00994873,  0.3305664 ,  0.10327148,\n",
              "       -0.25854492,  0.19677734, -0.32476807, -0.15917969,  0.45752716,\n",
              "       -0.39208984, -0.22460938,  0.02929688,  0.31982422, -0.0958252 ,\n",
              "       -0.05932617,  0.01855469, -0.03945923,  0.01101685,  0.33984375,\n",
              "        0.10351562,  0.14396667, -0.07641602,  0.06640625, -0.10839844,\n",
              "       -0.1953125 , -0.3564453 , -0.02124023, -0.16503906, -0.16247559,\n",
              "       -0.05519104, -0.1003418 ,  0.01464844,  0.23449707, -0.26611328,\n",
              "       -0.07080078, -0.26904297, -0.00292969, -0.06738281, -0.02050781,\n",
              "        0.04418945, -0.09326172,  0.12304688,  0.10626221,  0.10290527,\n",
              "        0.01660156, -0.10791016, -0.0065918 ,  0.17578125,  0.10028076,\n",
              "        0.22363281, -0.05761719, -0.31743622,  0.3922119 , -0.35498047,\n",
              "       -0.23643494, -0.01074219, -0.01334572, -0.15283203, -0.00793457,\n",
              "        0.08203125,  0.09985352,  0.003479  ,  0.11608887,  0.14550781,\n",
              "       -0.125     , -0.11254883,  0.2548828 , -0.04345703,  0.34985352,\n",
              "       -0.02880859,  0.15966797,  0.07226562,  0.17626953,  0.15979004,\n",
              "       -0.20263672, -0.23864746,  0.3400879 ,  0.17700195,  0.15454102,\n",
              "       -0.20385742,  0.05224609, -0.05224609,  0.3067627 , -0.14892578,\n",
              "       -0.07910156, -0.10107422,  0.06176758,  0.08154297,  0.17700195,\n",
              "        0.04589844, -0.41674805, -0.32019043, -0.16674805,  0.11083984,\n",
              "       -0.02352905,  0.35290527, -0.30004883,  0.25634766, -0.16748047,\n",
              "        0.21386719,  0.12304688, -0.27490234, -0.35009766, -0.4580078 ,\n",
              "        0.38671875, -0.6265869 , -0.13139915,  0.34692383,  0.11553955,\n",
              "        0.42016602,  0.32763672, -0.03381157,  0.08630371,  0.2419281 ,\n",
              "       -0.35412598,  0.19325256, -0.36791992,  0.17056274,  0.1459961 ,\n",
              "       -0.18945312,  0.28393555,  0.01953125, -0.18115234,  0.08374023,\n",
              "       -0.01483154,  0.06591797,  0.21643066, -0.01757812,  0.18481445,\n",
              "        0.01757812,  0.07226562,  0.01220703,  0.4343872 ,  0.2734375 ,\n",
              "        0.20452881,  0.01586914,  0.01391602,  0.33740234, -0.30273438,\n",
              "       -0.00439453, -0.5595703 ,  0.38867188, -0.1373291 ,  0.13574219,\n",
              "       -0.20605469,  0.10742188,  0.02148438, -0.14648438,  0.2142334 ,\n",
              "       -0.06054688,  0.23291016, -0.16430664, -0.4741211 , -0.13745117,\n",
              "       -0.12353516, -0.26293945,  0.03125   ,  0.15332031, -0.08251953,\n",
              "       -0.11865234, -0.10687256,  0.2421875 , -0.11425781, -0.05310059,\n",
              "       -0.30371094, -0.06225586,  0.05029297, -0.07272339,  0.11499023,\n",
              "       -0.2980957 ,  0.09692383,  0.41088867,  0.16601562,  0.3486328 ,\n",
              "       -0.17211914,  0.33325195, -0.19030762,  0.14611816,  0.14916992,\n",
              "       -0.33129883, -0.11791992, -0.39538574, -0.13183594, -0.07034302,\n",
              "        0.03204346,  0.38623047, -0.07495117,  0.15112305,  0.38134766,\n",
              "        0.2423706 , -0.11083984, -0.109375  , -0.08319092, -0.1003418 ,\n",
              "        0.08483887,  0.34039307,  0.11035156,  0.01074219, -0.3815918 ,\n",
              "       -0.1743164 ,  0.14331055,  0.2562256 , -0.2944336 ,  0.00488281,\n",
              "       -0.04443359, -0.06347656,  0.03100586, -0.12084961,  0.41137695,\n",
              "        0.078125  ,  0.34484863, -0.05615234, -0.2998047 ,  0.06054688,\n",
              "        0.17797852, -0.01876068, -0.16064453,  0.09765625, -0.05682373,\n",
              "       -0.2878418 , -0.05664062,  0.19726562, -0.22753906,  0.00268555,\n",
              "       -0.17297363, -0.19726562, -0.15332031,  0.1899414 ,  0.32299805,\n",
              "       -0.18261719, -0.06103516, -0.47460938,  0.1251831 ,  0.08056641,\n",
              "       -0.05444336,  0.17797852,  0.00754547, -0.00805664, -0.18371582,\n",
              "        0.23339844, -0.39074707,  0.18608856,  0.12158203,  0.2767334 ,\n",
              "       -0.06054688, -0.28857422,  0.3359375 , -0.02954102, -0.12329102,\n",
              "        0.09594727,  0.1965332 ,  0.15771484, -0.015625  ,  0.20019531,\n",
              "       -0.07763672, -0.30419922, -0.21777344,  0.06689453,  0.11193848,\n",
              "       -0.03125   ,  0.17773438, -0.05078125,  0.15014648, -0.19580078,\n",
              "       -0.2319336 , -0.04980469,  0.16308594,  0.4963379 ,  0.64746094,\n",
              "        0.03808594,  0.5743408 , -0.1274414 ,  0.16711426,  0.12188721,\n",
              "       -0.43432617, -0.3585205 , -0.12646484, -0.04003906,  0.39794922,\n",
              "        0.25683594, -0.45654297,  0.3178711 , -0.24658203,  0.16040039,\n",
              "       -0.11010742, -0.14331055, -0.0291748 ,  0.02893066, -0.03295898,\n",
              "       -0.05691528, -0.11279297, -0.18359375, -0.4482422 , -0.00830078,\n",
              "       -0.12371826, -0.02783203,  0.26367188,  0.27148438,  0.28808594],\n",
              "      dtype=float32)"
            ]
          },
          "metadata": {},
          "execution_count": 12
        }
      ]
    },
    {
      "cell_type": "code",
      "source": [
        "wv.most_similar([vec])"
      ],
      "metadata": {
        "colab": {
          "base_uri": "https://localhost:8080/"
        },
        "id": "59KvpYOZziO1",
        "outputId": "e17dbaf5-263e-435c-b7de-9c84d1d9df18"
      },
      "execution_count": 13,
      "outputs": [
        {
          "output_type": "execute_result",
          "data": {
            "text/plain": [
              "[('king', 0.6478992700576782),\n",
              " ('queen', 0.535493791103363),\n",
              " ('women', 0.5233659148216248),\n",
              " ('kings', 0.5162314772605896),\n",
              " ('queens', 0.4995364248752594),\n",
              " ('kumaris', 0.49238473176956177),\n",
              " ('princes', 0.46233269572257996),\n",
              " ('monarch', 0.45280295610427856),\n",
              " ('monarchy', 0.4293173849582672),\n",
              " ('kings_princes', 0.42342400550842285)]"
            ]
          },
          "metadata": {},
          "execution_count": 13
        }
      ]
    },
    {
      "cell_type": "code",
      "source": [
        "odd_one_out = wv.doesnt_match(['breakfast', 'cereal', 'dinner', 'lunch'])"
      ],
      "metadata": {
        "id": "3Tt4cYAAzt4h"
      },
      "execution_count": 17,
      "outputs": []
    },
    {
      "cell_type": "code",
      "source": [
        "odd_one_out"
      ],
      "metadata": {
        "colab": {
          "base_uri": "https://localhost:8080/",
          "height": 36
        },
        "id": "BE-o3X1U0Yxt",
        "outputId": "e629426a-551a-4c55-c879-491383160ac7"
      },
      "execution_count": 18,
      "outputs": [
        {
          "output_type": "execute_result",
          "data": {
            "text/plain": [
              "'cereal'"
            ],
            "application/vnd.google.colaboratory.intrinsic+json": {
              "type": "string"
            }
          },
          "metadata": {},
          "execution_count": 18
        }
      ]
    },
    {
      "cell_type": "code",
      "source": [
        "len(wv.key_to_index)"
      ],
      "metadata": {
        "colab": {
          "base_uri": "https://localhost:8080/"
        },
        "id": "zBViKvro0jxm",
        "outputId": "cc78e731-611a-43bc-9d4a-c137d30c89a9"
      },
      "execution_count": 22,
      "outputs": [
        {
          "output_type": "execute_result",
          "data": {
            "text/plain": [
              "3000000"
            ]
          },
          "metadata": {},
          "execution_count": 22
        }
      ]
    },
    {
      "cell_type": "code",
      "source": [
        "list(wv.index_to_key)"
      ],
      "metadata": {
        "colab": {
          "base_uri": "https://localhost:8080/"
        },
        "id": "jW3gKbcq0qtk",
        "outputId": "8c578ed1-299d-4548-ce14-2f105aeaf312"
      },
      "execution_count": 23,
      "outputs": [
        {
          "output_type": "execute_result",
          "data": {
            "text/plain": [
              "['</s>',\n",
              " 'in',\n",
              " 'for',\n",
              " 'that',\n",
              " 'is',\n",
              " 'on',\n",
              " '##',\n",
              " 'The',\n",
              " 'with',\n",
              " 'said',\n",
              " 'was',\n",
              " 'the',\n",
              " 'at',\n",
              " 'not',\n",
              " 'as',\n",
              " 'it',\n",
              " 'be',\n",
              " 'from',\n",
              " 'by',\n",
              " 'are',\n",
              " 'I',\n",
              " 'have',\n",
              " 'he',\n",
              " 'will',\n",
              " 'has',\n",
              " '####',\n",
              " 'his',\n",
              " 'an',\n",
              " 'this',\n",
              " 'or',\n",
              " 'their',\n",
              " 'who',\n",
              " 'they',\n",
              " 'but',\n",
              " '$',\n",
              " 'had',\n",
              " 'year',\n",
              " 'were',\n",
              " 'we',\n",
              " 'more',\n",
              " '###',\n",
              " 'up',\n",
              " 'been',\n",
              " 'you',\n",
              " 'its',\n",
              " 'one',\n",
              " 'about',\n",
              " 'would',\n",
              " 'which',\n",
              " 'out',\n",
              " 'can',\n",
              " 'It',\n",
              " 'all',\n",
              " 'also',\n",
              " 'two',\n",
              " 'after',\n",
              " 'first',\n",
              " 'He',\n",
              " 'do',\n",
              " 'time',\n",
              " 'than',\n",
              " 'when',\n",
              " 'We',\n",
              " 'over',\n",
              " 'last',\n",
              " 'new',\n",
              " 'other',\n",
              " 'her',\n",
              " 'people',\n",
              " 'into',\n",
              " 'In',\n",
              " 'our',\n",
              " 'there',\n",
              " 'A',\n",
              " 'she',\n",
              " 'could',\n",
              " 'just',\n",
              " 'years',\n",
              " 'some',\n",
              " 'U.S.',\n",
              " 'three',\n",
              " 'million',\n",
              " 'them',\n",
              " 'what',\n",
              " 'But',\n",
              " 'so',\n",
              " 'no',\n",
              " 'like',\n",
              " 'if',\n",
              " 'only',\n",
              " 'percent',\n",
              " 'get',\n",
              " 'did',\n",
              " 'him',\n",
              " 'game',\n",
              " 'back',\n",
              " 'because',\n",
              " 'now',\n",
              " '#.#',\n",
              " 'before',\n",
              " 'company',\n",
              " 'any',\n",
              " 'team',\n",
              " 'against',\n",
              " 'off',\n",
              " 'This',\n",
              " 'most',\n",
              " 'made',\n",
              " 'through',\n",
              " 'make',\n",
              " 'second',\n",
              " 'state',\n",
              " 'well',\n",
              " 'day',\n",
              " 'season',\n",
              " 'says',\n",
              " 'week',\n",
              " 'where',\n",
              " 'while',\n",
              " 'down',\n",
              " 'being',\n",
              " 'government',\n",
              " 'your',\n",
              " '#-#',\n",
              " 'home',\n",
              " 'going',\n",
              " 'my',\n",
              " 'good',\n",
              " 'They',\n",
              " \"'re\",\n",
              " 'should',\n",
              " 'many',\n",
              " 'way',\n",
              " 'those',\n",
              " 'four',\n",
              " 'during',\n",
              " 'such',\n",
              " 'may',\n",
              " 'very',\n",
              " 'how',\n",
              " 'since',\n",
              " 'work',\n",
              " 'take',\n",
              " 'including',\n",
              " 'high',\n",
              " 'then',\n",
              " '%',\n",
              " 'next',\n",
              " '#,###',\n",
              " 'By',\n",
              " 'much',\n",
              " 'still',\n",
              " 'go',\n",
              " 'think',\n",
              " 'old',\n",
              " 'even',\n",
              " '#.##',\n",
              " 'world',\n",
              " 'see',\n",
              " 'say',\n",
              " 'business',\n",
              " 'five',\n",
              " 'told',\n",
              " 'under',\n",
              " 'us',\n",
              " '1',\n",
              " 'these',\n",
              " 'If',\n",
              " 'right',\n",
              " 'And',\n",
              " 'me',\n",
              " 'between',\n",
              " 'play',\n",
              " 'help',\n",
              " '##,###',\n",
              " 'market',\n",
              " 'That',\n",
              " 'know',\n",
              " 'end',\n",
              " 'AP',\n",
              " 'long',\n",
              " 'information',\n",
              " 'points',\n",
              " 'does',\n",
              " 'both',\n",
              " 'There',\n",
              " 'part',\n",
              " 'around',\n",
              " 'police',\n",
              " 'want',\n",
              " \"'ve\",\n",
              " 'based',\n",
              " 'For',\n",
              " 'got',\n",
              " 'third',\n",
              " 'school',\n",
              " 'left',\n",
              " 'another',\n",
              " 'country',\n",
              " 'need',\n",
              " '2',\n",
              " 'best',\n",
              " 'win',\n",
              " 'quarter',\n",
              " 'use',\n",
              " 'today',\n",
              " '##.#',\n",
              " 'same',\n",
              " 'public',\n",
              " 'run',\n",
              " 'Friday',\n",
              " 'set',\n",
              " 'month',\n",
              " 'top',\n",
              " 'billion',\n",
              " 'Tuesday',\n",
              " 'come',\n",
              " 'Monday',\n",
              " 'She',\n",
              " 'city',\n",
              " 'place',\n",
              " 'night',\n",
              " 'six',\n",
              " 'each',\n",
              " 'Thursday',\n",
              " '###,###',\n",
              " 'Wednesday',\n",
              " 'here',\n",
              " 'You',\n",
              " 'group',\n",
              " 'really',\n",
              " 'found',\n",
              " 'As',\n",
              " 'used',\n",
              " '3',\n",
              " 'lot',\n",
              " \"'m\",\n",
              " 'money',\n",
              " 'put',\n",
              " 'games',\n",
              " 'support',\n",
              " 'program',\n",
              " 'half',\n",
              " 'report',\n",
              " 'family',\n",
              " 'months',\n",
              " 'number',\n",
              " 'officials',\n",
              " 'am',\n",
              " 'former',\n",
              " 'own',\n",
              " 'man',\n",
              " 'Saturday',\n",
              " 'too',\n",
              " 'better',\n",
              " 'days',\n",
              " 'came',\n",
              " 'lead',\n",
              " 'life',\n",
              " 'American',\n",
              " '##-##',\n",
              " 'show',\n",
              " 'past',\n",
              " 'took',\n",
              " 'added',\n",
              " 'expected',\n",
              " 'called',\n",
              " 'great',\n",
              " 'State',\n",
              " 'services',\n",
              " 'children',\n",
              " 'hit',\n",
              " 'area',\n",
              " 'system',\n",
              " 'every',\n",
              " 'pm',\n",
              " 'big',\n",
              " 'service',\n",
              " 'few',\n",
              " 'per',\n",
              " 'members',\n",
              " 'Sunday',\n",
              " 'early',\n",
              " 'point',\n",
              " 'start',\n",
              " 'companies',\n",
              " 'little',\n",
              " '&',\n",
              " 'case',\n",
              " 'ago',\n",
              " 'local',\n",
              " 'according',\n",
              " 'never',\n",
              " '5',\n",
              " 'without',\n",
              " 'sales',\n",
              " 'until',\n",
              " 'went',\n",
              " 'players',\n",
              " '##th',\n",
              " 'New_York',\n",
              " 'won',\n",
              " 'financial',\n",
              " 'news',\n",
              " '4',\n",
              " 'When',\n",
              " 'share',\n",
              " 'several',\n",
              " 'free',\n",
              " 'away',\n",
              " '##.##',\n",
              " 'already',\n",
              " 'On',\n",
              " 'industry',\n",
              " \"'ll\",\n",
              " 'call',\n",
              " 'With',\n",
              " 'students',\n",
              " 'line',\n",
              " 'available',\n",
              " 'County',\n",
              " 'making',\n",
              " 'held',\n",
              " 'final',\n",
              " '#:##',\n",
              " 'power',\n",
              " 'plan',\n",
              " 'might',\n",
              " 'least',\n",
              " 'look',\n",
              " 'forward',\n",
              " 'give',\n",
              " 'At',\n",
              " 'again',\n",
              " 'later',\n",
              " 'full',\n",
              " 'must',\n",
              " 'things',\n",
              " 'major',\n",
              " 'community',\n",
              " 'announced',\n",
              " 'open',\n",
              " 'record',\n",
              " 'reported',\n",
              " 'court',\n",
              " 'working',\n",
              " 'able',\n",
              " 'something',\n",
              " 'president',\n",
              " 'meeting',\n",
              " 'keep',\n",
              " 'March',\n",
              " 'future',\n",
              " 'far',\n",
              " 'deal',\n",
              " 'City',\n",
              " 'May',\n",
              " 'development',\n",
              " 'University',\n",
              " 'find',\n",
              " 'times',\n",
              " 'After',\n",
              " 'office',\n",
              " 'led',\n",
              " 'among',\n",
              " 'June',\n",
              " 'increase',\n",
              " 'China',\n",
              " 'John',\n",
              " 'whether',\n",
              " 'cost',\n",
              " 'security',\n",
              " 'job',\n",
              " 'less',\n",
              " 'head',\n",
              " 'seven',\n",
              " 'growth',\n",
              " 'lost',\n",
              " 'pay',\n",
              " 'looking',\n",
              " 'provide',\n",
              " '6',\n",
              " 'To',\n",
              " 'plans',\n",
              " 'products',\n",
              " 'car',\n",
              " 'recent',\n",
              " 'hard',\n",
              " 'always',\n",
              " 'include',\n",
              " 'women',\n",
              " 'across',\n",
              " 'tax',\n",
              " 'water',\n",
              " 'April',\n",
              " 'continue',\n",
              " 'important',\n",
              " 'different',\n",
              " 'close',\n",
              " '7',\n",
              " 'One',\n",
              " 'late',\n",
              " 'decision',\n",
              " 'current',\n",
              " 'law',\n",
              " 'within',\n",
              " 'along',\n",
              " 'played',\n",
              " 'move',\n",
              " 'United_States',\n",
              " 'enough',\n",
              " 'become',\n",
              " 'side',\n",
              " 'national',\n",
              " 'Inc.',\n",
              " 'results',\n",
              " 'level',\n",
              " 'loss',\n",
              " 'economic',\n",
              " 'coach',\n",
              " 'near',\n",
              " 'getting',\n",
              " 'price',\n",
              " 'Department',\n",
              " 'event',\n",
              " 'fourth',\n",
              " 'change',\n",
              " 'All',\n",
              " 'small',\n",
              " 'board',\n",
              " 'National',\n",
              " 'So',\n",
              " 'goal',\n",
              " 'taken',\n",
              " 'field',\n",
              " 'prices',\n",
              " 'weeks',\n",
              " 'men',\n",
              " 'asked',\n",
              " 'eight',\n",
              " 'data',\n",
              " 'shot',\n",
              " 'New',\n",
              " 'started',\n",
              " 'July',\n",
              " 'director',\n",
              " 'President',\n",
              " 'party',\n",
              " 'federal',\n",
              " 'done',\n",
              " 'political',\n",
              " 'minutes',\n",
              " 'taking',\n",
              " 'Company',\n",
              " 'technology',\n",
              " 'project',\n",
              " 'center',\n",
              " 'leading',\n",
              " 'issue',\n",
              " 'though',\n",
              " 'having',\n",
              " 'period',\n",
              " 'likely',\n",
              " 'scored',\n",
              " '8',\n",
              " 'strong',\n",
              " 'series',\n",
              " 'military',\n",
              " 'seen',\n",
              " 'trying',\n",
              " 'What',\n",
              " 'coming',\n",
              " 'process',\n",
              " 'building',\n",
              " 'behind',\n",
              " 'performance',\n",
              " 'management',\n",
              " 'Iraq',\n",
              " 'saying',\n",
              " 'earlier',\n",
              " 'believe',\n",
              " 'oil',\n",
              " 'given',\n",
              " 'Police',\n",
              " 'customers',\n",
              " 'due',\n",
              " 'following',\n",
              " 'term',\n",
              " 'others',\n",
              " 'statement',\n",
              " 'international',\n",
              " 'economy',\n",
              " 'health',\n",
              " 'thing',\n",
              " 'Obama',\n",
              " 'return',\n",
              " 'killed',\n",
              " 'Washington',\n",
              " 'further',\n",
              " 'However',\n",
              " 'doing',\n",
              " 'face',\n",
              " 'low',\n",
              " 'higher',\n",
              " 'site',\n",
              " 'once',\n",
              " 'yet',\n",
              " 'hours',\n",
              " 'America',\n",
              " 'control',\n",
              " 'received',\n",
              " 'rate',\n",
              " 'career',\n",
              " 'Bush',\n",
              " 'teams',\n",
              " 'known',\n",
              " 'offer',\n",
              " 'race',\n",
              " 'ever',\n",
              " 'experience',\n",
              " 'playing',\n",
              " 'name',\n",
              " 'possible',\n",
              " 'countries',\n",
              " 'Mr.',\n",
              " 'average',\n",
              " 'together',\n",
              " 'using',\n",
              " '9',\n",
              " 'cut',\n",
              " 'While',\n",
              " 'total',\n",
              " 'round',\n",
              " 'young',\n",
              " 'nearly',\n",
              " 'shares',\n",
              " 'member',\n",
              " 'campaign',\n",
              " 'media',\n",
              " 'needs',\n",
              " 'why',\n",
              " 'house',\n",
              " 'issues',\n",
              " 'costs',\n",
              " 'fire',\n",
              " '##-#',\n",
              " 'victory',\n",
              " 'player',\n",
              " 'began',\n",
              " 'sure',\n",
              " 'story',\n",
              " 'per_cent',\n",
              " 'North',\n",
              " 'His',\n",
              " 'staff',\n",
              " 'order',\n",
              " 'war',\n",
              " 'large',\n",
              " 'interest',\n",
              " 'stock',\n",
              " 'food',\n",
              " 'research',\n",
              " 'key',\n",
              " 'India',\n",
              " 'South',\n",
              " 'morning',\n",
              " 'conference',\n",
              " 'senior',\n",
              " 'global',\n",
              " 'Center',\n",
              " 'death',\n",
              " 'person',\n",
              " 'thought',\n",
              " 'gave',\n",
              " 'feel',\n",
              " 'energy',\n",
              " 'history',\n",
              " 'recently',\n",
              " 'largest',\n",
              " 'No.',\n",
              " 'general',\n",
              " 'official',\n",
              " 'released',\n",
              " 'wanted',\n",
              " 'meet',\n",
              " 'short',\n",
              " 'outside',\n",
              " 'running',\n",
              " 'live',\n",
              " 'ball',\n",
              " 'online',\n",
              " 'real',\n",
              " 'position',\n",
              " 'fact',\n",
              " 'fell',\n",
              " 'nine',\n",
              " 'December',\n",
              " 'front',\n",
              " 'action',\n",
              " 'defense',\n",
              " 'problem',\n",
              " 'problems',\n",
              " 'Mr',\n",
              " 'nation',\n",
              " 'needed',\n",
              " 'special',\n",
              " 'January',\n",
              " 'almost',\n",
              " 'chance',\n",
              " \"'d\",\n",
              " 'result',\n",
              " 'West',\n",
              " 'September',\n",
              " 'reports',\n",
              " 'leader',\n",
              " 'investment',\n",
              " 'yesterday',\n",
              " 'Some',\n",
              " 'leaders',\n",
              " 'ahead',\n",
              " 'production',\n",
              " 'comes',\n",
              " 'No',\n",
              " 'runs',\n",
              " 'match',\n",
              " 'role',\n",
              " 'kind',\n",
              " 'try',\n",
              " 'ended',\n",
              " 'risk',\n",
              " 'areas',\n",
              " 'election',\n",
              " 'workers',\n",
              " 'visit',\n",
              " 'bring',\n",
              " 'road',\n",
              " 'music',\n",
              " 'study',\n",
              " 'makes',\n",
              " 'often',\n",
              " 'release',\n",
              " 'woman',\n",
              " 'vote',\n",
              " 'care',\n",
              " 'town',\n",
              " 'clear',\n",
              " 'comment',\n",
              " 'budget',\n",
              " 'potential',\n",
              " 'single',\n",
              " 'markets',\n",
              " 'policy',\n",
              " 'capital',\n",
              " 'saw',\n",
              " 'access',\n",
              " 'weekend',\n",
              " 'operations',\n",
              " 'whose',\n",
              " 'net',\n",
              " 'House',\n",
              " 'hand',\n",
              " 'increased',\n",
              " 'charges',\n",
              " 'winning',\n",
              " 'trade',\n",
              " 'These',\n",
              " 'income',\n",
              " 'value',\n",
              " 'involved',\n",
              " 'Bank',\n",
              " 'November',\n",
              " 'bill',\n",
              " 'compared',\n",
              " 'anything',\n",
              " 'manager',\n",
              " 'Texas',\n",
              " 'property',\n",
              " 'stop',\n",
              " 'annual',\n",
              " 'private',\n",
              " 'contract',\n",
              " 'died',\n",
              " 'Now',\n",
              " 'hope',\n",
              " 'product',\n",
              " 'fans',\n",
              " 'lower',\n",
              " 'demand',\n",
              " 'News',\n",
              " 'David',\n",
              " 'club',\n",
              " 'comments',\n",
              " 'film',\n",
              " 'yards',\n",
              " 'quality',\n",
              " 'currently',\n",
              " 'events',\n",
              " 'addition',\n",
              " 'couple',\n",
              " 'schools',\n",
              " 'attack',\n",
              " 'region',\n",
              " 'latest',\n",
              " 'opportunity',\n",
              " 'worked',\n",
              " 'course',\n",
              " 'bad',\n",
              " 'fall',\n",
              " 'Group',\n",
              " 'October',\n",
              " 'jobs',\n",
              " 'list',\n",
              " 'let',\n",
              " 'however',\n",
              " 'chief',\n",
              " 'summer',\n",
              " 'programs',\n",
              " 'According',\n",
              " 'revenue',\n",
              " 'Our',\n",
              " 'rose',\n",
              " 'previous',\n",
              " 'TV',\n",
              " 'football',\n",
              " 'biggest',\n",
              " 'employees',\n",
              " 'changes',\n",
              " 'residents',\n",
              " 'means',\n",
              " 'agreement',\n",
              " 'includes',\n",
              " 'post',\n",
              " 'Canada',\n",
              " 'probably',\n",
              " 'related',\n",
              " 'training',\n",
              " 'allowed',\n",
              " 'class',\n",
              " 'bit',\n",
              " 'video',\n",
              " 'Michael',\n",
              " 'An',\n",
              " 'sent',\n",
              " 'education',\n",
              " 'states',\n",
              " 'straight',\n",
              " 'love',\n",
              " 'beat',\n",
              " 'hold',\n",
              " 'turn',\n",
              " 'finished',\n",
              " 'network',\n",
              " 'Smith',\n",
              " 'buy',\n",
              " 'foreign',\n",
              " 'especially',\n",
              " 'groups',\n",
              " 'wants',\n",
              " 'title',\n",
              " 'included',\n",
              " 'turned',\n",
              " 'bank',\n",
              " 'Florida',\n",
              " 'efforts',\n",
              " 'personal',\n",
              " 'businesses',\n",
              " 'August',\n",
              " 'California',\n",
              " 'situation',\n",
              " 'district',\n",
              " 'allow',\n",
              " 'helped',\n",
              " 'body',\n",
              " 'nothing',\n",
              " 'soon',\n",
              " 'safety',\n",
              " 'officer',\n",
              " 'cents',\n",
              " 'Europe',\n",
              " 'St.',\n",
              " 'additional',\n",
              " 'spokesman',\n",
              " 'February',\n",
              " 'wife',\n",
              " 'showed',\n",
              " 'leave',\n",
              " 'investors',\n",
              " 'parents',\n",
              " 'medical',\n",
              " 'spending',\n",
              " 'non',\n",
              " 'London',\n",
              " 'Council',\n",
              " 'matter',\n",
              " 'spent',\n",
              " 'child',\n",
              " 'World',\n",
              " 'effort',\n",
              " 'opening',\n",
              " 'either',\n",
              " 'range',\n",
              " 'question',\n",
              " 'European',\n",
              " 'goals',\n",
              " 'administration',\n",
              " 'friends',\n",
              " 'himself',\n",
              " 'shows',\n",
              " 'difficult',\n",
              " 'kids',\n",
              " 'paid',\n",
              " 'create',\n",
              " 'cash',\n",
              " 'age',\n",
              " 'league',\n",
              " 'form',\n",
              " 'impact',\n",
              " 'drive',\n",
              " 'someone',\n",
              " 'became',\n",
              " 'stay',\n",
              " 'fight',\n",
              " 'significant',\n",
              " 'firm',\n",
              " 'Senate',\n",
              " 'hospital',\n",
              " 'charged',\n",
              " 'operating',\n",
              " 'main',\n",
              " 'book',\n",
              " 'success',\n",
              " 'son',\n",
              " 'trading',\n",
              " '###-####',\n",
              " 'focus',\n",
              " 'room',\n",
              " 'continued',\n",
              " 'Congress',\n",
              " 'everything',\n",
              " 'Park',\n",
              " 'agency',\n",
              " 'brought',\n",
              " 'talk',\n",
              " 'break',\n",
              " 'air',\n",
              " 'software',\n",
              " 'decided',\n",
              " 'Do',\n",
              " 'ready',\n",
              " 'arrested',\n",
              " 'track',\n",
              " 'provides',\n",
              " 'mother',\n",
              " 'base',\n",
              " 'trial',\n",
              " 'phone',\n",
              " 'My',\n",
              " 'build',\n",
              " 'conditions',\n",
              " 'rest',\n",
              " 'Johnson',\n",
              " 'terms',\n",
              " 'expect',\n",
              " 'England',\n",
              " 'Israel',\n",
              " 'despite',\n",
              " 'closed',\n",
              " 'starting',\n",
              " 'provided',\n",
              " 'pressure',\n",
              " 'lives',\n",
              " 'step',\n",
              " 'remain',\n",
              " 'similar',\n",
              " 'charge',\n",
              " 'date',\n",
              " 'whole',\n",
              " 'land',\n",
              " 'growing',\n",
              " 'James',\n",
              " 'Internet',\n",
              " 'projects',\n",
              " 'British',\n",
              " 'cases',\n",
              " 'ground',\n",
              " 'legal',\n",
              " 'International',\n",
              " 'agreed',\n",
              " 'tell',\n",
              " 'test',\n",
              " 'everyone',\n",
              " 'pretty',\n",
              " 'authorities',\n",
              " 'Two',\n",
              " 'above',\n",
              " 'moved',\n",
              " 'profit',\n",
              " 'throughout',\n",
              " 'inside',\n",
              " 'ability',\n",
              " 'overall',\n",
              " 'pass',\n",
              " 'officers',\n",
              " 'rather',\n",
              " 'Australia',\n",
              " 'actually',\n",
              " 'county',\n",
              " 'amount',\n",
              " 'scheduled',\n",
              " 'themselves',\n",
              " 'organization',\n",
              " 'giving',\n",
              " 'credit',\n",
              " 'father',\n",
              " 'drug',\n",
              " 'investigation',\n",
              " 'families',\n",
              " 'Republican',\n",
              " 'funds',\n",
              " 'patients',\n",
              " 'takes',\n",
              " 'systems',\n",
              " 'Japan',\n",
              " 'complete',\n",
              " 'sold',\n",
              " 'practice',\n",
              " 'calls',\n",
              " '•',\n",
              " 'UK',\n",
              " 'force',\n",
              " 'student',\n",
              " 'idea',\n",
              " 'reached',\n",
              " 'reason',\n",
              " 'levels',\n",
              " 'space',\n",
              " 'competition',\n",
              " 'forces',\n",
              " 'sector',\n",
              " 'Last',\n",
              " 'tried',\n",
              " 'common',\n",
              " 'homes',\n",
              " 'stage',\n",
              " 'department',\n",
              " 'named',\n",
              " 'earnings',\n",
              " 'offers',\n",
              " 'star',\n",
              " 'certain',\n",
              " 'double',\n",
              " 'longer',\n",
              " 'followed',\n",
              " 'cause',\n",
              " 'Association',\n",
              " 'signed',\n",
              " 'committee',\n",
              " 'hour',\n",
              " 'college',\n",
              " 'Pakistan',\n",
              " 'users',\n",
              " 'Iran',\n",
              " 'sign',\n",
              " 'living',\n",
              " 'failed',\n",
              " 'reach',\n",
              " 'quickly',\n",
              " 'receive',\n",
              " 'debt',\n",
              " 'sale',\n",
              " 'Board',\n",
              " 'Americans',\n",
              " 'Road',\n",
              " 'Brown',\n",
              " 'insurance',\n",
              " '##:##',\n",
              " 'anyone',\n",
              " 'tournament',\n",
              " 'More',\n",
              " 'gas',\n",
              " 'talks',\n",
              " 'serious',\n",
              " 'required',\n",
              " 'sell',\n",
              " 'construction',\n",
              " 'evidence',\n",
              " 'remains',\n",
              " 'black',\n",
              " 'below',\n",
              " 'improve',\n",
              " 'crisis',\n",
              " 'address',\n",
              " 'questions',\n",
              " 'easy',\n",
              " 'begin',\n",
              " 'view',\n",
              " 'School',\n",
              " 'heard',\n",
              " 'executive',\n",
              " 'raised',\n",
              " ...]"
            ]
          },
          "metadata": {},
          "execution_count": 23
        }
      ]
    },
    {
      "cell_type": "code",
      "source": [
        "wv.similarity('easy','below')"
      ],
      "metadata": {
        "colab": {
          "base_uri": "https://localhost:8080/"
        },
        "id": "ZL_3iJ5q0uTW",
        "outputId": "9432b1e6-b83e-46f3-81be-5e42c7f464d6"
      },
      "execution_count": 26,
      "outputs": [
        {
          "output_type": "execute_result",
          "data": {
            "text/plain": [
              "0.03273055"
            ]
          },
          "metadata": {},
          "execution_count": 26
        }
      ]
    },
    {
      "cell_type": "code",
      "source": [
        "wv.most_similar('king', topn=10)\n"
      ],
      "metadata": {
        "colab": {
          "base_uri": "https://localhost:8080/"
        },
        "id": "CLwfJg0b06dE",
        "outputId": "246fd928-85fc-4f45-9302-65cc22bf61b8"
      },
      "execution_count": 29,
      "outputs": [
        {
          "output_type": "execute_result",
          "data": {
            "text/plain": [
              "[('kings', 0.7138045430183411),\n",
              " ('queen', 0.6510956883430481),\n",
              " ('monarch', 0.6413194537162781),\n",
              " ('crown_prince', 0.6204220056533813),\n",
              " ('prince', 0.6159993410110474),\n",
              " ('sultan', 0.5864824056625366),\n",
              " ('ruler', 0.5797567367553711),\n",
              " ('princes', 0.5646552443504333),\n",
              " ('Prince_Paras', 0.5432944297790527),\n",
              " ('throne', 0.5422105193138123)]"
            ]
          },
          "metadata": {},
          "execution_count": 29
        }
      ]
    },
    {
      "cell_type": "code",
      "source": [
        "wv.get_vector('king', norm=True)"
      ],
      "metadata": {
        "colab": {
          "base_uri": "https://localhost:8080/"
        },
        "id": "ffQssTUn1kl2",
        "outputId": "b0e6e23d-11fe-4a17-cf60-da40203b7da6"
      },
      "execution_count": 30,
      "outputs": [
        {
          "output_type": "execute_result",
          "data": {
            "text/plain": [
              "array([ 4.34063822e-02,  1.02627501e-02,  2.96526169e-03,  4.81171533e-02,\n",
              "       -8.83269403e-03, -1.24498932e-02,  3.85273732e-02, -6.83061704e-02,\n",
              "        1.76653881e-02,  1.25171900e-01, -8.34479332e-02, -1.04309916e-01,\n",
              "       -6.12400137e-02, -8.58033169e-03, -5.78751788e-02, -5.85481450e-02,\n",
              "        1.19451676e-02,  1.79808424e-03,  1.59829706e-02,  4.44158353e-02,\n",
              "        4.71077040e-02,  3.88638563e-02,  2.05255002e-02,  4.71077040e-02,\n",
              "        3.48260514e-02, -6.09035306e-02, -8.68127644e-02,  2.06096210e-02,\n",
              "        1.17769256e-01, -1.07254144e-02,  3.60037461e-02,  2.12825872e-02,\n",
              "        4.29016575e-02,  1.37958273e-01, -1.11039586e-01,  2.89375894e-02,\n",
              "        1.34593435e-02,  2.01890152e-03,  2.42268182e-02,  5.95575981e-02,\n",
              "        4.77806702e-02, -7.97466114e-02,  9.75802392e-02,  4.91266064e-02,\n",
              "        1.17769256e-01, -8.24384764e-03, -3.78544033e-02,  1.14404419e-02,\n",
              "       -1.88430808e-02,  5.27858641e-03, -5.58562763e-02,  5.45103438e-02,\n",
              "       -8.95046368e-02,  6.93997415e-03, -5.61927594e-02,  4.67922509e-04,\n",
              "       -4.97995727e-02, -1.96001697e-02,  1.48052778e-02, -8.49621091e-03,\n",
              "        6.39318824e-02,  1.54109493e-01,  3.30174528e-03,  4.54252847e-02,\n",
              "        3.39848436e-02, -6.39318824e-02, -3.44895683e-02, -4.60982509e-02,\n",
              "       -4.30698991e-02,  9.75802392e-02,  4.23969328e-02,  1.83383562e-02,\n",
              "       -6.12400137e-02,  2.96105556e-02, -7.52882054e-03,  7.06615532e-03,\n",
              "       -4.81171533e-02,  8.66445247e-03,  4.77806702e-02, -3.63402292e-02,\n",
              "        4.77806702e-02,  3.06200068e-02, -2.59092376e-02, -7.36057851e-03,\n",
              "        5.95575981e-02,  1.59829706e-02, -9.15235355e-02,  3.07041290e-03,\n",
              "        5.14819883e-02,  1.30387396e-02,  8.21020007e-02, -4.29016575e-02,\n",
              "       -7.50358403e-02, -6.25859499e-02,  1.02627501e-02,  1.96842905e-02,\n",
              "       -9.96832643e-03,  4.29016585e-03,  3.33118774e-02, -7.97466114e-02,\n",
              "        2.00207736e-02,  2.30491254e-02,  2.43950598e-02, -1.06328815e-01,\n",
              "       -7.40263909e-02,  5.01360558e-02, -1.47379816e-01, -3.23865470e-03,\n",
              "        5.31644076e-02, -2.64139622e-02,  9.95991454e-02,  9.55613405e-02,\n",
              "       -1.67584600e-04, -4.71077040e-02,  1.11712553e-01, -8.47938657e-02,\n",
              "       -1.04625372e-03, -7.30169415e-02,  4.30698991e-02,  9.28694755e-02,\n",
              "        7.03250691e-02,  2.84328647e-02, -6.93156198e-02, -5.51833101e-02,\n",
              "       -1.30387396e-02, -4.13874835e-02,  3.97050641e-02, -1.41323106e-02,\n",
              "       -1.36275860e-02, -3.09564900e-02,  2.18714331e-03,  6.99885860e-02,\n",
              "        6.42683655e-02,  9.42154080e-02,  2.17031911e-02,  4.87901196e-02,\n",
              "       -3.38166021e-02,  4.77806702e-02,  6.29224330e-02,  5.98940812e-02,\n",
              "        5.98940812e-02, -8.17655101e-02,  6.15764968e-02,  2.18714345e-02,\n",
              "        8.14290270e-02, -7.20074922e-02,  3.01152822e-02, -5.72022125e-02,\n",
              "       -2.72551719e-02,  8.37844163e-02, -3.06200068e-02,  4.37428690e-02,\n",
              "       -7.46993572e-02, -5.98940812e-02, -1.23825960e-01, -2.84328647e-02,\n",
              "       -2.23761592e-02,  1.74971465e-02,  4.67712209e-02, -2.57409941e-02,\n",
              "       -5.65292425e-02,  3.97471245e-03,  1.53436527e-01, -7.43628740e-02,\n",
              "       -3.83591317e-02, -6.62872717e-02,  5.88846281e-02, -4.30698991e-02,\n",
              "        9.14814766e-04,  6.62872717e-02, -6.02305643e-02,  4.81171533e-02,\n",
              "        1.00945078e-01,  3.90320979e-02,  2.05255002e-02, -2.20396761e-02,\n",
              "        3.43213268e-02, -9.37948003e-03,  6.77173259e-03,  1.47211570e-02,\n",
              "       -8.47938657e-02,  2.20396761e-02, -7.77277127e-02, -5.82116619e-02,\n",
              "        9.98935662e-04,  2.82646213e-02,  1.17769256e-01,  1.48893995e-02,\n",
              "        4.57617678e-02,  4.91266064e-02,  2.62457207e-02,  2.06096210e-02,\n",
              "       -4.10510004e-02,  9.46360116e-04, -2.17031911e-02, -9.37948003e-03,\n",
              "       -1.66138774e-03, -2.82646213e-02, -8.58033169e-03, -1.37958273e-01,\n",
              "       -3.68449539e-02,  1.46370362e-02,  2.67504454e-02, -4.02097888e-02,\n",
              "        2.54045110e-02, -3.17976996e-02,  3.71814370e-02,  5.45103438e-02,\n",
              "        1.46370362e-02,  4.37428690e-02,  1.24498932e-02,  9.21965018e-02,\n",
              "       -3.48260514e-02, -1.04309916e-01, -1.98525321e-02,  1.74130257e-02,\n",
              "        1.81385694e-04, -7.13345185e-02, -4.77806702e-02, -3.09144310e-03,\n",
              "       -9.58978292e-03, -4.87901196e-02,  7.13345185e-02, -5.45103438e-02,\n",
              "        4.40793522e-02,  5.14819883e-02, -7.73912249e-03, -2.91058309e-02,\n",
              "        4.22286913e-02,  7.43628740e-02, -7.36899078e-02, -1.07674748e-01,\n",
              "       -1.28536731e-01,  1.40902505e-03,  3.70131955e-02,  3.68449539e-02,\n",
              "        2.52362695e-02,  3.09144310e-03, -1.33752227e-02, -4.47523184e-02,\n",
              "        5.14819883e-02, -7.40263909e-02, -6.33535499e-04,  3.41530852e-02,\n",
              "        5.41738607e-02, -3.93685810e-02, -7.06615523e-02,  3.41530852e-02,\n",
              "        1.27190799e-01, -6.79696873e-02,  1.21975299e-02,  3.76861617e-02,\n",
              "        4.54252847e-02,  5.75386956e-02,  8.10925439e-02,  3.61719877e-02,\n",
              "       -1.70933664e-01, -5.65292425e-02, -5.38373739e-02, -1.80018730e-02,\n",
              "        3.54990177e-02,  8.37844163e-02, -6.49413317e-02,  1.74971465e-02,\n",
              "       -3.23024243e-02, -2.30491254e-02,  7.82324374e-03,  2.62457207e-02,\n",
              "        9.95991454e-02,  1.07001781e-01, -1.85065977e-02,  7.87371621e-02,\n",
              "        8.66445247e-03,  2.33856104e-02, -4.17239666e-02, -7.43628740e-02,\n",
              "       -9.42154080e-02, -1.05992332e-02, -1.16423324e-01,  5.28279245e-02,\n",
              "        8.04195777e-02, -7.16710091e-02,  1.28536731e-01,  2.82646213e-02,\n",
              "        8.68127644e-02, -2.62457207e-02, -1.60670914e-02, -7.69706210e-03,\n",
              "        1.03048105e-02, -2.04413775e-02, -1.60881213e-03, -8.41208994e-02,\n",
              "       -7.23439753e-02, -9.89261791e-02, -1.56464875e-02, -6.12400137e-02,\n",
              "       -9.62343067e-02, -2.96105556e-02,  3.14612165e-02,  8.68127644e-02],\n",
              "      dtype=float32)"
            ]
          },
          "metadata": {},
          "execution_count": 30
        }
      ]
    },
    {
      "cell_type": "code",
      "source": [
        "similarity = wv.cosine_similarities(wv['king'], [wv['queen'], wv['man']])"
      ],
      "metadata": {
        "id": "DSUN7hef1lVq"
      },
      "execution_count": 31,
      "outputs": []
    },
    {
      "cell_type": "code",
      "source": [
        "print(f\"Cosine similarity between 'king' and 'queen': {similarity[0]}\")"
      ],
      "metadata": {
        "colab": {
          "base_uri": "https://localhost:8080/"
        },
        "id": "OAYzGcWL1sMb",
        "outputId": "349326ca-0d59-4899-ef64-af56e47bc075"
      },
      "execution_count": 32,
      "outputs": [
        {
          "output_type": "stream",
          "name": "stdout",
          "text": [
            "Cosine similarity between 'king' and 'queen': 0.6510956287384033\n"
          ]
        }
      ]
    },
    {
      "cell_type": "code",
      "source": [
        "print(f\"Cosine similarity between 'king' and 'man': {similarity[1]}\")"
      ],
      "metadata": {
        "colab": {
          "base_uri": "https://localhost:8080/"
        },
        "id": "JUUogLnE1v0O",
        "outputId": "b600a3a3-9feb-413a-93c3-e4208b9ad592"
      },
      "execution_count": 33,
      "outputs": [
        {
          "output_type": "stream",
          "name": "stdout",
          "text": [
            "Cosine similarity between 'king' and 'man': 0.22942668199539185\n"
          ]
        }
      ]
    },
    {
      "cell_type": "code",
      "source": [
        "words = ['king', 'queen', 'man', 'woman']\n",
        "similarity_matrix = [[wv.similarity(w1, w2) for w2 in words] for w1 in words]\n",
        "print(f\"Similarity matrix:\\n{similarity_matrix}\")\n"
      ],
      "metadata": {
        "colab": {
          "base_uri": "https://localhost:8080/"
        },
        "id": "MkwjNN9r18SC",
        "outputId": "bb354acd-d357-44e5-cf27-a2a745ec8596"
      },
      "execution_count": 36,
      "outputs": [
        {
          "output_type": "stream",
          "name": "stdout",
          "text": [
            "Similarity matrix:\n",
            "[[1.0, 0.6510957, 0.22942673, 0.12847973], [0.6510957, 1.0, 0.16658202, 0.31618136], [0.22942673, 0.16658202, 1.0, 0.76640123], [0.12847973, 0.31618136, 0.76640123, 1.0]]\n"
          ]
        }
      ]
    },
    {
      "cell_type": "code",
      "source": [
        "from numpy import dot\n",
        "from numpy.linalg import norm\n",
        "\n",
        "def most_similar_matrix(wv, word):\n",
        "    vec = wv[word]\n",
        "    sims = dot(wv.vectors, vec) / (norm(wv.vectors, axis=1) * norm(vec))\n",
        "    return sorted([(s, wv.index_to_key[i]) for i, s in enumerate(sims)], reverse=True)\n",
        "\n",
        "similar_matrix = most_similar_matrix(wv, 'king')\n",
        "print(f\"Most similar words to 'king' using similarity matrix:\\n{similar_matrix[:10]}\")\n"
      ],
      "metadata": {
        "colab": {
          "base_uri": "https://localhost:8080/"
        },
        "id": "MSu4jW9o2CoH",
        "outputId": "aa8fd219-d051-4bbb-f837-adfccc98eca9"
      },
      "execution_count": 37,
      "outputs": [
        {
          "output_type": "stream",
          "name": "stdout",
          "text": [
            "Most similar words to 'king' using similarity matrix:\n",
            "[(1.0000001, 'king'), (0.71380454, 'kings'), (0.6510956, 'queen'), (0.64131945, 'monarch'), (0.62042195, 'crown_prince'), (0.61599934, 'prince'), (0.5864824, 'sultan'), (0.5797567, 'ruler'), (0.56465524, 'princes'), (0.5432944, 'Prince_Paras')]\n"
          ]
        }
      ]
    }
  ]
}